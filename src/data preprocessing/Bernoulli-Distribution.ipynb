{
 "cells": [
  {
   "cell_type": "code",
   "id": "initial_id",
   "metadata": {
    "collapsed": true,
    "ExecuteTime": {
     "end_time": "2024-11-13T10:25:47.781519Z",
     "start_time": "2024-11-13T10:25:47.778007Z"
    }
   },
   "source": [
    "# improt\n",
    "import numpy as np\n",
    "import matplotlib.pyplot as plt\n",
    "from playwright.sync_api import expect\n"
   ],
   "outputs": [],
   "execution_count": 4
  },
  {
   "metadata": {
    "ExecuteTime": {
     "end_time": "2024-11-13T10:25:48.428865Z",
     "start_time": "2024-11-13T10:25:48.424896Z"
    }
   },
   "cell_type": "code",
   "source": [
    "# Bernoulli Distribution\n",
    "# p: probability of success\n",
    "# q: probability of failure\n",
    "# p + q = 1\n",
    "# p: 0 <= p <= 1\n",
    "# q: 0 <= q <= 1\n"
   ],
   "id": "eba9fb81e67a9fa3",
   "outputs": [],
   "execution_count": 5
  },
  {
   "metadata": {
    "ExecuteTime": {
     "end_time": "2024-11-13T10:26:29.826730Z",
     "start_time": "2024-11-13T10:26:29.822307Z"
    }
   },
   "cell_type": "code",
   "source": [
    "# Flip a coin\n",
    "\n",
    "# probability of success \n",
    "p = 0.5\n",
    "# probability of failure\n",
    "q = 1 - p\n",
    "\n",
    "expect_value = p\n",
    "\n",
    "variance = p * q\n",
    "\n",
    "print(f\"Expect value: {expect_value}\")\n",
    "print(f\"Variance: {variance}\")\n",
    "\n",
    "\n"
   ],
   "id": "b2b260d2e84fd377",
   "outputs": [
    {
     "name": "stdout",
     "output_type": "stream",
     "text": [
      "Expect value: 0.5\n",
      "Variance: 0.25\n"
     ]
    }
   ],
   "execution_count": 8
  },
  {
   "metadata": {
    "ExecuteTime": {
     "end_time": "2024-11-13T10:26:39.214651Z",
     "start_time": "2024-11-13T10:26:39.071464Z"
    }
   },
   "cell_type": "code",
   "source": [
    "# Plot\n",
    "x = np.arange(0, 2, 1)\n",
    "y = [q, p]\n",
    "\n",
    "plt.bar(x, y)\n",
    "plt.xticks(x, ['Failure', 'Success'])"
   ],
   "id": "5929d28014371fda",
   "outputs": [
    {
     "data": {
      "text/plain": [
       "([<matplotlib.axis.XTick at 0x1dde6745ed0>,\n",
       "  <matplotlib.axis.XTick at 0x1dde675c290>],\n",
       " [Text(0, 0, 'Failure'), Text(1, 0, 'Success')])"
      ]
     },
     "execution_count": 10,
     "metadata": {},
     "output_type": "execute_result"
    },
    {
     "data": {
      "text/plain": [
       "<Figure size 640x480 with 1 Axes>"
      ],
      "image/png": "[encoded data removed]"
     },
     "metadata": {},
     "output_type": "display_data"
    }
   ],
   "execution_count": 10
  },
  {
   "metadata": {
    "ExecuteTime": {
     "end_time": "2024-11-13T10:28:53.062860Z",
     "start_time": "2024-11-13T10:28:53.058442Z"
    }
   },
   "cell_type": "code",
   "source": [
    "# Probability of getting any Jacks in the deck of cards\n",
    "\n",
    "# probability of success\n",
    "p = 4/52\n",
    "# probability of failure\n",
    "q = 1 - p\n",
    "\n",
    "expect_value = p\n",
    "\n",
    "variance = p * q\n",
    "\n",
    "print(f\"Expect value: {expect_value}\")\n",
    "print(f\"Variance: {variance}\")\n",
    "\n",
    "\n"
   ],
   "id": "91bb9df69005ce84",
   "outputs": [
    {
     "name": "stdout",
     "output_type": "stream",
     "text": [
      "Expect value: 0.07692307692307693\n",
      "Variance: 0.07100591715976332\n"
     ]
    }
   ],
   "execution_count": 11
  },
  {
   "metadata": {
    "ExecuteTime": {
     "end_time": "2024-11-13T10:29:03.135183Z",
     "start_time": "2024-11-13T10:29:03.073707Z"
    }
   },
   "cell_type": "code",
   "source": [
    "# Plot\n",
    "\n",
    "x = np.arange(0, 2, 1)\n",
    "\n",
    "y = [q, p]\n",
    "\n",
    "plt.bar(x, y)\n",
    "\n",
    "plt.xticks(x, ['Failure', 'Success'])\n",
    "\n"
   ],
   "id": "3d1eaf3463e983e1",
   "outputs": [
    {
     "data": {
      "text/plain": [
       "([<matplotlib.axis.XTick at 0x1dde680b510>,\n",
       "  <matplotlib.axis.XTick at 0x1dde6744490>],\n",
       " [Text(0, 0, 'Failure'), Text(1, 0, 'Success')])"
      ]
     },
     "execution_count": 12,
     "metadata": {},
     "output_type": "execute_result"
    },
    {
     "data": {
      "text/plain": [
       "<Figure size 640x480 with 1 Axes>"
      ],
      "image/png": "[encoded data removed]"
     },
     "metadata": {},
     "output_type": "display_data"
    }
   ],
   "execution_count": 12
  },
  {
   "metadata": {},
   "cell_type": "code",
   "outputs": [],
   "execution_count": null,
   "source": "",
   "id": "fddcee14b982f439"
  }
 ],
 "metadata": {
  "kernelspec": {
   "display_name": "Python 3",
   "language": "python",
   "name": "python3"
  },
  "language_info": {
   "codemirror_mode": {
    "name": "ipython",
    "version": 2
   },
   "file_extension": ".py",
   "mimetype": "text/x-python",
   "name": "python",
   "nbconvert_exporter": "python",
   "pygments_lexer": "ipython2",
   "version": "2.7.6"
  }
 },
 "nbformat": 4,
 "nbformat_minor": 5
}
