{
 "cells": [
  {
   "cell_type": "code",
   "id": "initial_id",
   "metadata": {
    "collapsed": true,
    "ExecuteTime": {
     "end_time": "2024-11-13T10:35:14.641491Z",
     "start_time": "2024-11-13T10:35:14.638175Z"
    }
   },
   "source": [
    "# libs\n",
    "\n",
    "import numpy as np\n",
    "import matplotlib.pyplot as plt\n",
    "import seaborn as sns\n",
    "from scipy import stats\n"
   ],
   "outputs": [],
   "execution_count": 1
  },
  {
   "metadata": {
    "ExecuteTime": {
     "end_time": "2024-11-13T10:35:24.079780Z",
     "start_time": "2024-11-13T10:35:24.076764Z"
    }
   },
   "cell_type": "code",
   "source": [
    "# Binomial Distribution\n",
    "\n",
    "# The binomial distribution is a probability distribution that summarizes the likelihood that a value will take one of two independent values under a given set of parameters or assumptions. The underlying assumptions of the binomial distribution are that there is only one outcome for each trial, that each trial has the same probability of success, and that each trial is mutually exclusive of each other.\n",
    "\n"
   ],
   "id": "13b0498b53d39e7c",
   "outputs": [],
   "execution_count": 2
  },
  {
   "metadata": {
    "ExecuteTime": {
     "end_time": "2024-11-13T10:39:21.516143Z",
     "start_time": "2024-11-13T10:39:21.511132Z"
    }
   },
   "cell_type": "code",
   "source": [
    "# Example A football team has a 0.7 probability of winning each game. What is the probability that the team will win 2 of its next 3 games?\n",
    "\n",
    "# The binomial distribution formula is:\n",
    "\n",
    "# P(x; n, P) = (nCx) * (P^x) * (1 - P)^(n - x)\n",
    "\n",
    "p = 0.7\n",
    "n = 3\n",
    "\n",
    "# The probability of winning 2 games is: P(2; 3, 0.7)\n",
    "\n",
    "prob_2 = stats.binom.pmf(2, n, p)\n",
    "\n",
    "print(prob_2)\n"
   ],
   "id": "81265861b278c769",
   "outputs": [
    {
     "name": "stdout",
     "output_type": "stream",
     "text": [
      "0.4409999999999998\n"
     ]
    }
   ],
   "execution_count": 5
  },
  {
   "metadata": {
    "ExecuteTime": {
     "end_time": "2024-11-13T10:39:18.311617Z",
     "start_time": "2024-11-13T10:39:18.305702Z"
    }
   },
   "cell_type": "code",
   "source": [
    "# Example (cdf) A football team has a 0.7 probability of winning each game. What is the probability that the team will win at most 2 of its next 3 games?\n",
    "\n",
    "# The binomial distribution formula is:\n",
    "\n",
    "# P(x; n, P) = (nCx) * (P^x) * (1 - P)^(n - x)\n",
    "\n",
    "p = 0.7\n",
    "n = 3\n",
    "\n",
    "# The probability of winning at most 2 games is: P(0; 3, 0.7) + P(1; 3, 0.7) + P(2; 3, 0.7)\n",
    "\n",
    "prob_at_most_2 = stats.binom.cdf(2, n, p)\n",
    "\n",
    "print(prob_at_most_2)\n",
    "\n",
    "\n",
    " "
   ],
   "id": "25807d5a047f7f27",
   "outputs": [
    {
     "name": "stdout",
     "output_type": "stream",
     "text": [
      "0.657\n"
     ]
    }
   ],
   "execution_count": 4
  }
 ],
 "metadata": {
  "kernelspec": {
   "display_name": "Python 3",
   "language": "python",
   "name": "python3"
  },
  "language_info": {
   "codemirror_mode": {
    "name": "ipython",
    "version": 2
   },
   "file_extension": ".py",
   "mimetype": "text/x-python",
   "name": "python",
   "nbconvert_exporter": "python",
   "pygments_lexer": "ipython2",
   "version": "2.7.6"
  }
 },
 "nbformat": 4,
 "nbformat_minor": 5
}
