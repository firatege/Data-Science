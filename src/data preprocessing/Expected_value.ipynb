{
 "cells": [
  {
   "cell_type": "code",
   "id": "initial_id",
   "metadata": {
    "collapsed": true,
    "ExecuteTime": {
     "end_time": "2024-10-31T15:07:41.511592Z",
     "start_time": "2024-10-31T15:07:41.508550Z"
    }
   },
   "source": [
    "import numpy as np\n",
    "import scipy as sp\n"
   ],
   "outputs": [],
   "execution_count": 1
  },
  {
   "metadata": {
    "ExecuteTime": {
     "end_time": "2024-10-31T15:08:28.197629Z",
     "start_time": "2024-10-31T15:08:28.193099Z"
    }
   },
   "cell_type": "code",
   "source": [
    "'''\n",
    "Bir mağazada belirli bir günde satılan ürün sayısını bir kesikli rassal değişken olarak ele alalım. Örneğin, bu mağazada 0'dan 10'a kadar herhangi bir sayıda ürün satılabiliyor ve her satış olasılığının belirli bir dağılıma göre gerçekleştiğini varsayalım.\n",
    "\n",
    "'''\n",
    "sales_counts = np.arange(11)  # 0'dan 10'a kadar ürün satılabilir\n",
    "probabilities = np.array([0.05, 0.10, 0.15, 0.10, 0.10, 0.1, 0.1, 0.1, 0.1, 0.05, 0.05])  # Olasılık dağılımı\n",
    "\n",
    "# formul: E(X) = Σ x_i * p_i\n"
   ],
   "id": "c59de02b9f8264ed",
   "outputs": [],
   "execution_count": 3
  },
  {
   "metadata": {
    "ExecuteTime": {
     "end_time": "2024-10-31T15:09:41.201565Z",
     "start_time": "2024-10-31T15:09:41.196139Z"
    }
   },
   "cell_type": "code",
   "source": [
    "expected_sales_count = np.sum(sales_counts * probabilities)\n",
    "expected_sales_count\n"
   ],
   "id": "fe742dd03a441eee",
   "outputs": [
    {
     "data": {
      "text/plain": [
       "4.65"
      ]
     },
     "execution_count": 5,
     "metadata": {},
     "output_type": "execute_result"
    }
   ],
   "execution_count": 5
  },
  {
   "metadata": {
    "ExecuteTime": {
     "end_time": "2024-10-31T15:16:20.223588Z",
     "start_time": "2024-10-31T15:16:20.218583Z"
    }
   },
   "cell_type": "code",
   "source": [
    "'''\n",
    "f(x) = x^2 + 2x + 1   1 < x < 3\n",
    "''' "
   ],
   "id": "b74c93d2ea3a1810",
   "outputs": [
    {
     "data": {
      "text/plain": [
       "'\\nf(x) = x^2 + 2x + 1   1 < x < 3\\n'"
      ]
     },
     "execution_count": 16,
     "metadata": {},
     "output_type": "execute_result"
    }
   ],
   "execution_count": 16
  },
  {
   "metadata": {
    "ExecuteTime": {
     "end_time": "2024-10-31T15:16:21.807159Z",
     "start_time": "2024-10-31T15:16:21.803893Z"
    }
   },
   "cell_type": "code",
   "source": [
    "def f(x):\n",
    "    return x**2 + 2*x + 1\n"
   ],
   "id": "f13c6750dead54ed",
   "outputs": [],
   "execution_count": 17
  },
  {
   "metadata": {
    "ExecuteTime": {
     "end_time": "2024-10-31T15:17:14.450058Z",
     "start_time": "2024-10-31T15:17:14.442603Z"
    }
   },
   "cell_type": "code",
   "source": [
    "a = 1\n",
    "b = 3\n",
    "\n",
    "# formul: E(X) = ∫ x * f(x) dx\n",
    "\n",
    "expected_value = sp.integrate.quad(lambda x: x*f(x), a, b)\n",
    "\n",
    "expected_value"
   ],
   "id": "c8d170dfb6cfdf54",
   "outputs": [
    {
     "data": {
      "text/plain": [
       "(41.33333333333333, 4.588921835117313e-13)"
      ]
     },
     "execution_count": 19,
     "metadata": {},
     "output_type": "execute_result"
    }
   ],
   "execution_count": 19
  }
 ],
 "metadata": {
  "kernelspec": {
   "display_name": "Python 3",
   "language": "python",
   "name": "python3"
  },
  "language_info": {
   "codemirror_mode": {
    "name": "ipython",
    "version": 2
   },
   "file_extension": ".py",
   "mimetype": "text/x-python",
   "name": "python",
   "nbconvert_exporter": "python",
   "pygments_lexer": "ipython2",
   "version": "2.7.6"
  }
 },
 "nbformat": 4,
 "nbformat_minor": 5
}
