{
 "cells": [
  {
   "cell_type": "code",
   "id": "initial_id",
   "metadata": {
    "collapsed": true,
    "ExecuteTime": {
     "end_time": "2024-11-13T11:02:08.044686Z",
     "start_time": "2024-11-13T11:02:08.040935Z"
    }
   },
   "source": [
    "# libs\n",
    "\n",
    "import numpy as np\n",
    "import matplotlib.pyplot as plt\n",
    "import seaborn as sns\n",
    "from scipy import stats\n"
   ],
   "outputs": [],
   "execution_count": 1
  },
  {
   "metadata": {
    "ExecuteTime": {
     "end_time": "2024-11-13T11:02:42.927935Z",
     "start_time": "2024-11-13T11:02:42.925313Z"
    }
   },
   "cell_type": "code",
   "source": [
    "# Poisson Distribution\n",
    "\n",
    "# Poisson distribution is a discrete probability distribution that expresses the probability of a given number of events occurring in a fixed interval of time or space.\n",
    "\n",
    "# Rare events : n > 50, p < 0.05\n",
    "\n"
   ],
   "id": "114ff26d552f3b11",
   "outputs": [],
   "execution_count": 2
  },
  {
   "metadata": {
    "ExecuteTime": {
     "end_time": "2024-11-13T11:04:06.437707Z",
     "start_time": "2024-11-13T11:04:06.432701Z"
    }
   },
   "cell_type": "code",
   "source": [
    "# Example\n",
    "\n",
    "# A bank gets an average of 6 customers every 1 minute. What is the probability of getting 4 customers in a minute ? (pmf)\n",
    "\n",
    "n = 4\n",
    "mu = 6\n",
    "\n",
    "poisson = stats.poisson.pmf(n, mu)\n",
    "\n",
    "print(\"Probability of getting 4 customers in a minute: \", poisson)\n"
   ],
   "id": "1c3c78c3c52c6320",
   "outputs": [
    {
     "name": "stdout",
     "output_type": "stream",
     "text": [
      "Probability of getting 4 customers in a minute:  0.13385261753998332\n"
     ]
    }
   ],
   "execution_count": 7
  },
  {
   "metadata": {
    "ExecuteTime": {
     "end_time": "2024-11-13T11:04:06.856750Z",
     "start_time": "2024-11-13T11:04:06.850899Z"
    }
   },
   "cell_type": "code",
   "source": [
    "# Example\n",
    "\n",
    "# A bank gets an average of 6 customers every 1 minute. What is the probability of getting 4 or less customers in a minute? (cdf)\n",
    "\n",
    "n = 4\n",
    "mu = 6\n",
    "\n",
    "poisson = stats.poisson.cdf(n, mu)\n",
    "\n",
    "print(\"Probability of getting 4 or less customers in a minute: \", poisson)\n",
    "\n"
   ],
   "id": "f65bbc4d4bbdad6d",
   "outputs": [
    {
     "name": "stdout",
     "output_type": "stream",
     "text": [
      "Probability of getting 4 or less customers in a minute:  0.2850565003166312\n"
     ]
    }
   ],
   "execution_count": 8
  },
  {
   "metadata": {},
   "cell_type": "code",
   "outputs": [],
   "execution_count": null,
   "source": "",
   "id": "c11f5d3b18ba402e"
  }
 ],
 "metadata": {
  "kernelspec": {
   "display_name": "Python 3",
   "language": "python",
   "name": "python3"
  },
  "language_info": {
   "codemirror_mode": {
    "name": "ipython",
    "version": 2
   },
   "file_extension": ".py",
   "mimetype": "text/x-python",
   "name": "python",
   "nbconvert_exporter": "python",
   "pygments_lexer": "ipython2",
   "version": "2.7.6"
  }
 },
 "nbformat": 4,
 "nbformat_minor": 5
}
