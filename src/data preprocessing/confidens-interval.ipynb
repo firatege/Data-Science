{
 "cells": [
  {
   "metadata": {},
   "cell_type": "markdown",
   "source": [
    "# Confidence Interval\n",
    "\n",
    "for number of simple bigger than 30\n"
   ],
   "id": "4546b71a63c73d55"
  },
  {
   "cell_type": "code",
   "id": "initial_id",
   "metadata": {
    "collapsed": true,
    "ExecuteTime": {
     "end_time": "2024-10-31T13:50:35.352720Z",
     "start_time": "2024-10-31T13:50:35.348720Z"
    }
   },
   "source": [
    "import numpy as np\n",
    "import pandas as pd\n",
    "import matplotlib.pyplot as plt\n",
    "import seaborn as sns\n",
    "from scipy import stats\n"
   ],
   "outputs": [],
   "execution_count": 1
  },
  {
   "metadata": {},
   "cell_type": "code",
   "outputs": [],
   "execution_count": null,
   "source": [
    "'''\n",
    "Bir fabrika, bir ürünün üretim süresini iyileştirmek istiyor. 40 farklı üretim süresi örneği alınıyor ve bu örneklerin ortalaması 120 dakika, popülasyon standart sapması ise 15 dakika olarak ölçülüyor. %95 güven düzeyinde, üretim süresi için güven aralığını hesapla.\n",
    "'''\n"
   ],
   "id": "6f24e1eb0be7862e"
  },
  {
   "metadata": {
    "ExecuteTime": {
     "end_time": "2024-10-31T13:51:39.783851Z",
     "start_time": "2024-10-31T13:51:39.780906Z"
    }
   },
   "cell_type": "code",
   "source": [
    "n = 40\n",
    "x_ = 120\n",
    "std = 15\n",
    "alpha = 0.05\n",
    "\n",
    "#  X_ - Z * (std / sqrt(n)) < mu < X_ + Z * (std / sqrt(n))\n"
   ],
   "id": "fd1d99e3b9485080",
   "outputs": [],
   "execution_count": 2
  },
  {
   "metadata": {
    "ExecuteTime": {
     "end_time": "2024-10-31T13:51:55.515755Z",
     "start_time": "2024-10-31T13:51:55.511865Z"
    }
   },
   "cell_type": "code",
   "source": [
    "Z = stats.norm.ppf(1 - alpha / 2)\n",
    "\n"
   ],
   "id": "50731cfcbba7fee",
   "outputs": [],
   "execution_count": 4
  },
  {
   "metadata": {},
   "cell_type": "code",
   "outputs": [],
   "execution_count": null,
   "source": [
    "lower_bound = x_ - Z * (std / np.sqrt(n))\n",
    "upper_bound = x_ + Z * (std / np.sqrt(n)),\n",
    "\n",
    "lower_bound, upper_bound\n"
   ],
   "id": "5f6b98789d0cf891"
  },
  {
   "metadata": {
    "ExecuteTime": {
     "end_time": "2024-10-31T13:52:21.534601Z",
     "start_time": "2024-10-31T13:52:21.528040Z"
    }
   },
   "cell_type": "code",
   "source": [
    "'''\n",
    "Bir hastane, acil servisindeki bekleme sürelerini iyileştirmeyi amaçlıyor. 50 kişilik bir örneklemde, bekleme süresinin ortalaması 30 dakika ve popülasyon standart sapması 8 dakika olarak bulunuyor. %95 güven düzeyinde ortalama bekleme süresi için güven aralığını hesapla.\n",
    "'''\n",
    "\n"
   ],
   "id": "effe6e02b754e4ed",
   "outputs": [
    {
     "data": {
      "text/plain": [
       "'\\nBir hastane, acil servisindeki bekleme sürelerini iyileştirmeyi amaçlıyor. 50 kişilik bir örneklemde, bekleme süresinin ortalaması 30 dakika ve popülasyon standart sapması 8 dakika olarak bulunuyor. %95 güven düzeyinde ortalama bekleme süresi için güven aralığını hesapla.\\n'"
      ]
     },
     "execution_count": 6,
     "metadata": {},
     "output_type": "execute_result"
    }
   ],
   "execution_count": 6
  },
  {
   "metadata": {
    "ExecuteTime": {
     "end_time": "2024-10-31T13:52:39.416619Z",
     "start_time": "2024-10-31T13:52:39.411619Z"
    }
   },
   "cell_type": "code",
   "source": [
    "n = 50\n",
    "x_ = 30\n",
    "std = 8\n",
    "alpha = 0.05\n",
    "\n",
    "#  X_ - Z * (std / sqrt(n)) < mu < X_ + Z * (std / sqrt(n))\n",
    "\n"
   ],
   "id": "a604207ba0fb5c77",
   "outputs": [],
   "execution_count": 7
  },
  {
   "metadata": {
    "ExecuteTime": {
     "end_time": "2024-10-31T13:52:42.218780Z",
     "start_time": "2024-10-31T13:52:42.214792Z"
    }
   },
   "cell_type": "code",
   "source": [
    "Z = stats.norm.ppf(1 - alpha / 2)\n",
    "\n"
   ],
   "id": "c1b5e10babeb0c7b",
   "outputs": [],
   "execution_count": 8
  },
  {
   "metadata": {
    "ExecuteTime": {
     "end_time": "2024-10-31T13:52:46.044839Z",
     "start_time": "2024-10-31T13:52:46.039969Z"
    }
   },
   "cell_type": "code",
   "source": [
    "lower_bound = x_ - Z * (std / np.sqrt(n))\n",
    "upper_bound = x_ + Z * (std / np.sqrt(n)),\n",
    "lower_bound, upper_bound"
   ],
   "id": "2c57d141760f20f2",
   "outputs": [
    {
     "data": {
      "text/plain": [
       "(27.782553881040517, (32.21744611895949,))"
      ]
     },
     "execution_count": 9,
     "metadata": {},
     "output_type": "execute_result"
    }
   ],
   "execution_count": 9
  },
  {
   "metadata": {
    "ExecuteTime": {
     "end_time": "2024-10-31T13:53:29.572258Z",
     "start_time": "2024-10-31T13:53:29.567639Z"
    }
   },
   "cell_type": "code",
   "source": [
    "'''\n",
    "Bir şirket, çalışanlarının haftalık çalışma saatlerini analiz ediyor. 35 çalışanlık bir örneklemde ortalama çalışma saati 40 saat, popülasyon standart sapması ise 4 saat olarak belirlenmiş. %95 güven düzeyinde ortalama çalışma saati için güven aralığını hesapla.\n",
    "'''\n"
   ],
   "id": "5d6b05a18d8a8d05",
   "outputs": [
    {
     "data": {
      "text/plain": [
       "'\\nBir şirket, çalışanlarının haftalık çalışma saatlerini analiz ediyor. 35 çalışanlık bir örneklemde ortalama çalışma saati 40 saat, popülasyon standart sapması ise 4 saat olarak belirlenmiş. %95 güven düzeyinde ortalama çalışma saati için güven aralığını hesapla.\\n'"
      ]
     },
     "execution_count": 10,
     "metadata": {},
     "output_type": "execute_result"
    }
   ],
   "execution_count": 10
  },
  {
   "metadata": {
    "ExecuteTime": {
     "end_time": "2024-10-31T13:55:05.793383Z",
     "start_time": "2024-10-31T13:55:05.789264Z"
    }
   },
   "cell_type": "code",
   "source": [
    "n = 35\n",
    "x_= 40\n",
    "sd = 4\n",
    "alpha = 0.25\n",
    "Z = stats.norm.ppf(1 - alpha/2)\n"
   ],
   "id": "7725b8b821610fb9",
   "outputs": [],
   "execution_count": 11
  },
  {
   "metadata": {
    "ExecuteTime": {
     "end_time": "2024-10-31T14:08:12.676823Z",
     "start_time": "2024-10-31T14:08:12.669597Z"
    }
   },
   "cell_type": "code",
   "source": [
    "#  X_ - Z * (sd/sqrt(n))\n",
    "\n",
    "\n",
    "lower_bound = x_ - Z * (sd/np.sqrt(n))\n",
    "upper_bound = x_ + Z * (sd / np.sqrt(n))\n",
    "\n",
    "print(lower_bound,upper_bound)\n",
    "\n",
    "stats.norm.interval(confidence=alpha,loc= x_,scale = (sd/np.sqrt(n)))\n",
    "\n",
    "\n"
   ],
   "id": "dbaa476d2aa38606",
   "outputs": [
    {
     "name": "stdout",
     "output_type": "stream",
     "text": [
      "39.222221861400726 40.777778138599274\n"
     ]
    },
    {
     "data": {
      "text/plain": [
       "(39.78456046865722, 40.21543953134278)"
      ]
     },
     "execution_count": 29,
     "metadata": {},
     "output_type": "execute_result"
    }
   ],
   "execution_count": 29
  },
  {
   "metadata": {},
   "cell_type": "markdown",
   "source": "for number of simple lower than 30",
   "id": "7b52a4b82e700562"
  },
  {
   "metadata": {},
   "cell_type": "code",
   "outputs": [],
   "execution_count": null,
   "source": [
    "'''\n",
    "Bir araştırmacı, öğrencilerin haftalık çalışma saatlerini analiz ediyor. 25 kişilik bir öğrenci örnekleminde çalışma saatlerinin ortalaması 15 saat ve örneklem standart sapması 3 saat olarak ölçülüyor. %95 güven düzeyinde ortalama çalışma saatleri için güven aralığını hesapla.\n",
    "'''"
   ],
   "id": "6bbf49f09bde706c"
  },
  {
   "metadata": {
    "ExecuteTime": {
     "end_time": "2024-10-31T14:14:24.898876Z",
     "start_time": "2024-10-31T14:14:24.891877Z"
    }
   },
   "cell_type": "code",
   "source": [
    "n = 25\n",
    "x_ = 15\n",
    "sd = 3\n",
    "alpha = 0.25\n",
    "\n",
    "stats.t.interval(alpha,x_,sd/np.sqrt(n))\n",
    "\n"
   ],
   "id": "9723babdbde82f84",
   "outputs": [
    {
     "data": {
      "text/plain": [
       "(0.2754450743039562, 0.9245549256960437)"
      ]
     },
     "execution_count": 31,
     "metadata": {},
     "output_type": "execute_result"
    }
   ],
   "execution_count": 31
  },
  {
   "metadata": {},
   "cell_type": "markdown",
   "source": "for Two population",
   "id": "7610840890b65b35"
  },
  {
   "metadata": {
    "ExecuteTime": {
     "end_time": "2024-10-31T14:22:38.467854Z",
     "start_time": "2024-10-31T14:22:38.462393Z"
    }
   },
   "cell_type": "code",
   "source": [
    "'''\n",
    "İki farklı sınıf öğrencilerinin haftalık çalışma süreleri karşılaştırılıyor. İlk sınıftan 35 öğrenci üzerinde yapılan çalışmada ortalama çalışma süresi 20 saat, standart sapma 4 saat; ikinci sınıftan 30 öğrencide ortalama çalışma süresi 18 saat, standart sapma 5 saat olarak bulunmuş. %95 güven düzeyinde çalışma saatleri farkı için güven aralığını hesaplayın.\n",
    "'''"
   ],
   "id": "414ffe2659d3f6b9",
   "outputs": [
    {
     "data": {
      "text/plain": [
       "'\\nİki farklı sınıf öğrencilerinin haftalık çalışma süreleri karşılaştırılıyor. İlk sınıftan 35 öğrenci üzerinde yapılan çalışmada ortalama çalışma süresi 20 saat, standart sapma 4 saat; ikinci sınıftan 30 öğrencide ortalama çalışma süresi 18 saat, standart sapma 5 saat olarak bulunmuş. %95 güven düzeyinde çalışma saatleri farkı için güven aralığını hesaplayın.\\n'"
      ]
     },
     "execution_count": 32,
     "metadata": {},
     "output_type": "execute_result"
    }
   ],
   "execution_count": 32
  },
  {
   "metadata": {
    "ExecuteTime": {
     "end_time": "2024-10-31T14:22:48.385597Z",
     "start_time": "2024-10-31T14:22:48.382082Z"
    }
   },
   "cell_type": "code",
   "source": [
    "n1 = 35\n",
    "x1 = 20\n",
    "sd1 = 4\n",
    "\n",
    "n2 = 30\n",
    "x2 = 18\n",
    "sd2 = 5\n",
    "\n",
    "alpha = 0.05\n",
    "\n"
   ],
   "id": "b75c8ec39a0aba84",
   "outputs": [],
   "execution_count": 33
  },
  {
   "metadata": {},
   "cell_type": "code",
   "outputs": [],
   "execution_count": null,
   "source": [
    "# H0: mu1 - mu2 = 0\n",
    "# H1: mu1 - mu2 != 0\n",
    "\n",
    "# (x1 - x2) - Z * sqrt(sd1^2/n1 + sd2^2/n2) < mu1 - mu2 < (x1 - x2) + Z * sqrt(sd1^2/n1 + sd2^2/n2)\n",
    "\n",
    "Z = stats.norm.ppf(1 - alpha / 2)\n",
    "\n",
    "lower_bound = (x1 - x2) - Z * np.sqrt(sd1**2/n1 + sd2**2/n2)\n",
    "upper_bound = (x1 - x2) + Z * np.sqrt(sd1**2/n1 + sd2**2/n2)\n",
    "\n",
    "lower_bound, upper_bound\n",
    "\n"
   ],
   "id": "f0f0c75331426321"
  },
  {
   "metadata": {
    "ExecuteTime": {
     "end_time": "2024-10-31T14:24:25.714500Z",
     "start_time": "2024-10-31T14:24:25.709370Z"
    }
   },
   "cell_type": "code",
   "source": [
    "'''\n",
    "Bir okulda, iki farklı öğretmen tarafından verilen iki ayrı sınıfın sınav sonuçları karşılaştırılmak isteniyor. Öğrencilerin sınavlardan aldıkları puanlara göre öğretmenlerin başarı üzerinde etkisinin olup olmadığı test edilecek.\n",
    "\n",
    "Veri\n",
    "Sınıf A: 15 öğrencinin ortalama puanı 78, standart sapması 10\n",
    "Sınıf B: 12 öğrencinin ortalama puanı 85, standart sapması 12\n",
    "'''"
   ],
   "id": "35980098a930a70f",
   "outputs": [
    {
     "data": {
      "text/plain": [
       "'\\nBir okulda, iki farklı öğretmen tarafından verilen iki ayrı sınıfın sınav sonuçları karşılaştırılmak isteniyor. Öğrencilerin sınavlardan aldıkları puanlara göre öğretmenlerin başarı üzerinde etkisinin olup olmadığı test edilecek.\\n\\nVeri\\nSınıf A: 15 öğrencinin ortalama puanı 78, standart sapması 10\\nSınıf B: 12 öğrencinin ortalama puanı 85, standart sapması 12\\n'"
      ]
     },
     "execution_count": 35,
     "metadata": {},
     "output_type": "execute_result"
    }
   ],
   "execution_count": 35
  },
  {
   "metadata": {
    "ExecuteTime": {
     "end_time": "2024-10-31T14:24:40.476759Z",
     "start_time": "2024-10-31T14:24:40.473032Z"
    }
   },
   "cell_type": "code",
   "source": [
    "n1 = 15\n",
    "x1 = 78\n",
    "sd1 = 10\n",
    "\n",
    "n2 = 12\n",
    "x2 = 85\n",
    "sd2 = 12\n",
    "\n",
    "alpha = 0.05\n",
    "\n"
   ],
   "id": "a68430a25a785c24",
   "outputs": [],
   "execution_count": 36
  },
  {
   "metadata": {},
   "cell_type": "code",
   "outputs": [],
   "execution_count": null,
   "source": [
    "# H0: mu1 - mu2 = 0\n",
    "# H1: mu1 - mu2 != 0\n",
    "\n",
    "\n"
   ],
   "id": "936ee1a046d60329"
  }
 ],
 "metadata": {
  "kernelspec": {
   "display_name": "Python 3",
   "language": "python",
   "name": "python3"
  },
  "language_info": {
   "codemirror_mode": {
    "name": "ipython",
    "version": 2
   },
   "file_extension": ".py",
   "mimetype": "text/x-python",
   "name": "python",
   "nbconvert_exporter": "python",
   "pygments_lexer": "ipython2",
   "version": "2.7.6"
  }
 },
 "nbformat": 4,
 "nbformat_minor": 5
}
