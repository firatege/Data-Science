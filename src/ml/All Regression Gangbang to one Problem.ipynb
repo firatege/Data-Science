{
 "cells": [
  {
   "cell_type": "code",
   "id": "initial_id",
   "metadata": {
    "collapsed": true,
    "ExecuteTime": {
     "end_time": "2024-11-30T15:23:36.485904Z",
     "start_time": "2024-11-30T15:23:36.480192Z"
    }
   },
   "source": [
    "import numpy as np\n",
    "import pandas as pd\n",
    "import matplotlib.pyplot as plt\n",
    "from sklearn.linear_model import Ridge,LinearRegression,Lasso,ElasticNet\n",
    "from sklearn.preprocessing import PolynomialFeatures\n",
    "from sklearn.svm import SVR\n",
    "from sklearn.tree import DecisionTreeRegressor\n",
    "from sklearn.ensemble import RandomForestRegressor,BaggingRegressor\n",
    "from sklearn.model_selection import train_test_split\n",
    "import sklearn.metrics as mt"
   ],
   "outputs": [],
   "execution_count": 4
  },
  {
   "metadata": {
    "ExecuteTime": {
     "end_time": "2024-11-30T15:21:22.684886Z",
     "start_time": "2024-11-30T15:21:22.663727Z"
    }
   },
   "cell_type": "code",
   "source": "data = pd.read_csv('../../data/IceCreamData.csv')",
   "id": "a02038ee45af57f9",
   "outputs": [],
   "execution_count": 2
  },
  {
   "metadata": {
    "ExecuteTime": {
     "end_time": "2024-11-30T15:23:37.756454Z",
     "start_time": "2024-11-30T15:23:37.749433Z"
    }
   },
   "cell_type": "code",
   "source": [
    "X = np.array(data['Temperature']).reshape(-1,1)\n",
    "y = np.array(data['Revenue']).reshape(-1,1)\n",
    "\n",
    "X_train,X_test,y_train,y_test = train_test_split(X,y,test_size=0.2,random_state=42)\n",
    "\n"
   ],
   "id": "d64a8142f751c2e3",
   "outputs": [],
   "execution_count": 5
  },
  {
   "metadata": {
    "ExecuteTime": {
     "end_time": "2024-11-30T15:43:43.960723Z",
     "start_time": "2024-11-30T15:43:43.955471Z"
    }
   },
   "cell_type": "code",
   "source": [
    "models = {'model': [LinearRegression(), Ridge(), Lasso(), ElasticNet(), PolynomialFeatures(), SVR(kernel='rbf'), DecisionTreeRegressor(), BaggingRegressor(), RandomForestRegressor()],\n",
    "          'name': ['LinearRegression', 'Ridge', 'Lasso', 'ElasticNet', 'PolynomialRegression', 'SVR', 'DecisionTreeRegression', 'BaggingRegression', 'RandomForestRegression']}\n",
    "\n",
    "\n",
    "\n",
    "df = pd.DataFrame({'model':[],'R2':[],'MSE':[]})"
   ],
   "id": "c5bece14b26c9814",
   "outputs": [],
   "execution_count": 24
  },
  {
   "metadata": {
    "ExecuteTime": {
     "end_time": "2024-11-30T15:43:44.233566Z",
     "start_time": "2024-11-30T15:43:44.227714Z"
    }
   },
   "cell_type": "code",
   "source": [
    "def train_and_evaluate_model(model):\n",
    "    predict = model.fit(X_train, y_train).predict(X_test)\n",
    "    r2 = mt.r2_score(y_test, predict)\n",
    "    mse = mt.mean_squared_error(y_test, predict)\n",
    "    return r2, mse"
   ],
   "id": "2ac49336f5ff4d31",
   "outputs": [],
   "execution_count": 25
  },
  {
   "metadata": {
    "ExecuteTime": {
     "end_time": "2024-11-30T15:43:44.797486Z",
     "start_time": "2024-11-30T15:43:44.597536Z"
    }
   },
   "cell_type": "code",
   "source": [
    "for model, name in zip(models['model'], models['name']):\n",
    "     if name == 'PolynomialRegression':\n",
    "         poly = PolynomialFeatures(degree=2)\n",
    "         X_train_poly = poly.fit_transform(X_train)\n",
    "         X_test_poly = poly.transform(X_test)\n",
    "         model = LinearRegression()\n",
    "         \n",
    "\n",
    "\n",
    "     r2,mse = train_and_evaluate_model(model)\n",
    "     print(f'R2: {r2} MSE: {mse}')\n",
    "     df = df._append({'model': name, 'R2': r2, 'MSE': mse}, ignore_index=True)\n",
    "    "
   ],
   "id": "544e82869b7b91e7",
   "outputs": [
    {
     "name": "stdout",
     "output_type": "stream",
     "text": [
      "R2: 0.9771532792713993 MSE: 652.5200612979733\n",
      "R2: 0.9771521723077147 MSE: 652.5516770392402\n",
      "R2: 0.9771321302668287 MSE: 653.1240932692453\n",
      "R2: 0.9768661775155415 MSE: 660.7199100883741\n",
      "R2: 0.9771532792713993 MSE: 652.5200612979733\n",
      "R2: 0.5220772084444609 MSE: 13649.84554878037\n",
      "R2: 0.9534772958686918 MSE: 1328.7245076491977\n",
      "R2: 0.9653091029159687 MSE: 990.798922990124\n",
      "R2: 0.9648298861732046 MSE: 1004.4857247888608\n"
     ]
    },
    {
     "name": "stderr",
     "output_type": "stream",
     "text": [
      "C:\\Users\\firat\\anaconda3\\Lib\\site-packages\\sklearn\\utils\\validation.py:1143: DataConversionWarning: A column-vector y was passed when a 1d array was expected. Please change the shape of y to (n_samples, ), for example using ravel().\n",
      "  y = column_or_1d(y, warn=True)\n",
      "C:\\Users\\firat\\anaconda3\\Lib\\site-packages\\sklearn\\ensemble\\_bagging.py:508: DataConversionWarning: A column-vector y was passed when a 1d array was expected. Please change the shape of y to (n_samples, ), for example using ravel().\n",
      "  return column_or_1d(y, warn=True)\n",
      "C:\\Users\\firat\\AppData\\Local\\Temp\\ipykernel_32712\\1644671652.py:2: DataConversionWarning: A column-vector y was passed when a 1d array was expected. Please change the shape of y to (n_samples,), for example using ravel().\n",
      "  predict = model.fit(X_train, y_train).predict(X_test)\n"
     ]
    }
   ],
   "execution_count": 26
  },
  {
   "metadata": {
    "ExecuteTime": {
     "end_time": "2024-11-30T15:43:48.827224Z",
     "start_time": "2024-11-30T15:43:48.809127Z"
    }
   },
   "cell_type": "code",
   "source": "df",
   "id": "a793dfa87814f045",
   "outputs": [
    {
     "data": {
      "text/plain": [
       "                    model        R2           MSE\n",
       "0        LinearRegression  0.977153    652.520061\n",
       "1                   Ridge  0.977152    652.551677\n",
       "2                   Lasso  0.977132    653.124093\n",
       "3              ElasticNet  0.976866    660.719910\n",
       "4    PolynomialRegression  0.977153    652.520061\n",
       "5                     SVR  0.522077  13649.845549\n",
       "6  DecisionTreeRegression  0.953477   1328.724508\n",
       "7       BaggingRegression  0.965309    990.798923\n",
       "8  RandomForestRegression  0.964830   1004.485725"
      ],
      "text/html": [
       "<div>\n",
       "<style scoped>\n",
       "    .dataframe tbody tr th:only-of-type {\n",
       "        vertical-align: middle;\n",
       "    }\n",
       "\n",
       "    .dataframe tbody tr th {\n",
       "        vertical-align: top;\n",
       "    }\n",
       "\n",
       "    .dataframe thead th {\n",
       "        text-align: right;\n",
       "    }\n",
       "</style>\n",
       "<table border=\"1\" class=\"dataframe\">\n",
       "  <thead>\n",
       "    <tr style=\"text-align: right;\">\n",
       "      <th></th>\n",
       "      <th>model</th>\n",
       "      <th>R2</th>\n",
       "      <th>MSE</th>\n",
       "    </tr>\n",
       "  </thead>\n",
       "  <tbody>\n",
       "    <tr>\n",
       "      <th>0</th>\n",
       "      <td>LinearRegression</td>\n",
       "      <td>0.977153</td>\n",
       "      <td>652.520061</td>\n",
       "    </tr>\n",
       "    <tr>\n",
       "      <th>1</th>\n",
       "      <td>Ridge</td>\n",
       "      <td>0.977152</td>\n",
       "      <td>652.551677</td>\n",
       "    </tr>\n",
       "    <tr>\n",
       "      <th>2</th>\n",
       "      <td>Lasso</td>\n",
       "      <td>0.977132</td>\n",
       "      <td>653.124093</td>\n",
       "    </tr>\n",
       "    <tr>\n",
       "      <th>3</th>\n",
       "      <td>ElasticNet</td>\n",
       "      <td>0.976866</td>\n",
       "      <td>660.719910</td>\n",
       "    </tr>\n",
       "    <tr>\n",
       "      <th>4</th>\n",
       "      <td>PolynomialRegression</td>\n",
       "      <td>0.977153</td>\n",
       "      <td>652.520061</td>\n",
       "    </tr>\n",
       "    <tr>\n",
       "      <th>5</th>\n",
       "      <td>SVR</td>\n",
       "      <td>0.522077</td>\n",
       "      <td>13649.845549</td>\n",
       "    </tr>\n",
       "    <tr>\n",
       "      <th>6</th>\n",
       "      <td>DecisionTreeRegression</td>\n",
       "      <td>0.953477</td>\n",
       "      <td>1328.724508</td>\n",
       "    </tr>\n",
       "    <tr>\n",
       "      <th>7</th>\n",
       "      <td>BaggingRegression</td>\n",
       "      <td>0.965309</td>\n",
       "      <td>990.798923</td>\n",
       "    </tr>\n",
       "    <tr>\n",
       "      <th>8</th>\n",
       "      <td>RandomForestRegression</td>\n",
       "      <td>0.964830</td>\n",
       "      <td>1004.485725</td>\n",
       "    </tr>\n",
       "  </tbody>\n",
       "</table>\n",
       "</div>"
      ]
     },
     "execution_count": 27,
     "metadata": {},
     "output_type": "execute_result"
    }
   ],
   "execution_count": 27
  },
  {
   "metadata": {
    "ExecuteTime": {
     "end_time": "2024-11-30T15:43:50.961621Z",
     "start_time": "2024-11-30T15:43:50.795587Z"
    }
   },
   "cell_type": "code",
   "source": [
    "plt.figure(figsize=(10,5))\n",
    "plt.scatter(X_test, y_test, color='black')\n",
    "plt.plot(X_test, SVR().fit(X_train,y_train).predict(X_test), color='blue', linewidth=3)\n",
    " \n"
   ],
   "id": "b2eddb4fbcb17e64",
   "outputs": [
    {
     "name": "stderr",
     "output_type": "stream",
     "text": [
      "C:\\Users\\firat\\anaconda3\\Lib\\site-packages\\sklearn\\utils\\validation.py:1143: DataConversionWarning: A column-vector y was passed when a 1d array was expected. Please change the shape of y to (n_samples, ), for example using ravel().\n",
      "  y = column_or_1d(y, warn=True)\n"
     ]
    },
    {
     "data": {
      "text/plain": [
       "[<matplotlib.lines.Line2D at 0x20df1880e90>]"
      ]
     },
     "execution_count": 28,
     "metadata": {},
     "output_type": "execute_result"
    },
    {
     "data": {
      "text/plain": [
       "<Figure size 1000x500 with 1 Axes>"
      ],
      "image/png": "[encoded data removed]"
     },
     "metadata": {},
     "output_type": "display_data"
    }
   ],
   "execution_count": 28
  },
  {
   "metadata": {},
   "cell_type": "code",
   "outputs": [],
   "execution_count": null,
   "source": "",
   "id": "23beb84de2814940"
  }
 ],
 "metadata": {
  "kernelspec": {
   "display_name": "Python 3",
   "language": "python",
   "name": "python3"
  },
  "language_info": {
   "codemirror_mode": {
    "name": "ipython",
    "version": 2
   },
   "file_extension": ".py",
   "mimetype": "text/x-python",
   "name": "python",
   "nbconvert_exporter": "python",
   "pygments_lexer": "ipython2",
   "version": "2.7.6"
  }
 },
 "nbformat": 4,
 "nbformat_minor": 5
}
