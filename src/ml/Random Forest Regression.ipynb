{
 "cells": [
  {
   "cell_type": "code",
   "id": "initial_id",
   "metadata": {
    "collapsed": true,
    "ExecuteTime": {
     "end_time": "2024-11-30T15:02:41.449151Z",
     "start_time": "2024-11-30T15:02:41.094924Z"
    }
   },
   "source": [
    "import numpy as np\n",
    "import pandas as pd\n",
    "import matplotlib.pyplot as plt\n",
    "from sklearn.model_selection import GridSearchCV,train_test_split\n",
    "from sklearn.ensemble import RandomForestRegressor\n",
    "import sklearn.metrics as mt\n",
    "\n"
   ],
   "outputs": [],
   "execution_count": 1
  },
  {
   "metadata": {
    "ExecuteTime": {
     "end_time": "2024-11-30T15:03:00.097320Z",
     "start_time": "2024-11-30T15:03:00.082433Z"
    }
   },
   "cell_type": "code",
   "source": "data = pd.read_csv('../../data/IceCreamData.csv')\n",
   "id": "df22e6a303175817",
   "outputs": [],
   "execution_count": 2
  },
  {
   "metadata": {
    "ExecuteTime": {
     "end_time": "2024-11-30T15:03:56.503023Z",
     "start_time": "2024-11-30T15:03:56.497699Z"
    }
   },
   "cell_type": "code",
   "source": [
    "X = np.array(data['Temperature']).reshape(-1,1)\n",
    "y = np.array(data['Revenue']).reshape(-1,1)"
   ],
   "id": "c59ec3fbc11ba6ef",
   "outputs": [],
   "execution_count": 3
  },
  {
   "metadata": {
    "ExecuteTime": {
     "end_time": "2024-11-30T15:04:43.620849Z",
     "start_time": "2024-11-30T15:04:43.614355Z"
    }
   },
   "cell_type": "code",
   "source": "X_train,X_test,y_train,y_test = train_test_split(X,y,train_size=0.2,random_state=42)",
   "id": "5a763ca06df999f3",
   "outputs": [],
   "execution_count": 4
  },
  {
   "metadata": {
    "ExecuteTime": {
     "end_time": "2024-11-30T15:05:28.672695Z",
     "start_time": "2024-11-30T15:05:28.544118Z"
    }
   },
   "cell_type": "code",
   "source": [
    "rdf = RandomForestRegressor()\n",
    "rdf.fit(X_train,y_train)\n",
    "predict = rdf.predict(X_test)"
   ],
   "id": "16c24a3434514c30",
   "outputs": [
    {
     "name": "stderr",
     "output_type": "stream",
     "text": [
      "C:\\Users\\firat\\AppData\\Local\\Temp\\ipykernel_35440\\723323772.py:2: DataConversionWarning: A column-vector y was passed when a 1d array was expected. Please change the shape of y to (n_samples,), for example using ravel().\n",
      "  rdf.fit(X_train,y_train)\n"
     ]
    }
   ],
   "execution_count": 5
  },
  {
   "metadata": {
    "ExecuteTime": {
     "end_time": "2024-11-30T15:06:42.432673Z",
     "start_time": "2024-11-30T15:06:42.425153Z"
    }
   },
   "cell_type": "code",
   "source": "print(f'R2: {mt.r2_score(y_test,predict)}  MSE: {mt.mean_squared_error(y_test,predict)}')",
   "id": "12d474d135b68e8b",
   "outputs": [
    {
     "name": "stdout",
     "output_type": "stream",
     "text": [
      "R2: 0.9654572893305784  MSE: 1017.9275445865804\n"
     ]
    }
   ],
   "execution_count": 6
  },
  {
   "metadata": {
    "ExecuteTime": {
     "end_time": "2024-11-30T15:10:56.315231Z",
     "start_time": "2024-11-30T15:09:49.694902Z"
    }
   },
   "cell_type": "code",
   "source": [
    "params = {'max_depth':range(2,20),'max_features':range(2,20),'n_estimators':range(2,20)}\n",
    "\n",
    "\n",
    "CV = GridSearchCV(estimator=RandomForestRegressor(),param_grid=params,cv=10,n_jobs=-1)\n",
    "\n",
    "CV.fit(X_train,y_train)\n",
    "\n",
    "print(CV.best_params_)"
   ],
   "id": "c224f7e89bac552b",
   "outputs": [
    {
     "name": "stdout",
     "output_type": "stream",
     "text": [
      "{'max_depth': 4, 'max_features': 6, 'n_estimators': 16}\n"
     ]
    },
    {
     "name": "stderr",
     "output_type": "stream",
     "text": [
      "C:\\Users\\firat\\anaconda3\\Lib\\site-packages\\sklearn\\model_selection\\_search.py:909: DataConversionWarning: A column-vector y was passed when a 1d array was expected. Please change the shape of y to (n_samples,), for example using ravel().\n",
      "  self.best_estimator_.fit(X, y, **fit_params)\n"
     ]
    }
   ],
   "execution_count": 7
  },
  {
   "metadata": {
    "ExecuteTime": {
     "end_time": "2024-11-30T15:13:56.353777Z",
     "start_time": "2024-11-30T15:13:56.327976Z"
    }
   },
   "cell_type": "code",
   "source": [
    "rdf = RandomForestRegressor(max_depth =  4, max_features = 6, n_estimators = 16)\n",
    "rdf.fit(X_train,y_train)\n",
    "predict = rdf.predict(X_test)"
   ],
   "id": "e9e80c11bf1883bd",
   "outputs": [
    {
     "name": "stderr",
     "output_type": "stream",
     "text": [
      "C:\\Users\\firat\\AppData\\Local\\Temp\\ipykernel_35440\\2332199883.py:2: DataConversionWarning: A column-vector y was passed when a 1d array was expected. Please change the shape of y to (n_samples,), for example using ravel().\n",
      "  rdf.fit(X_train,y_train)\n"
     ]
    }
   ],
   "execution_count": 8
  },
  {
   "metadata": {
    "ExecuteTime": {
     "end_time": "2024-11-30T15:13:57.721778Z",
     "start_time": "2024-11-30T15:13:57.715370Z"
    }
   },
   "cell_type": "code",
   "source": "print(f'R2: {mt.r2_score(y_test,predict)}  MSE: {mt.mean_squared_error(y_test,predict)}')",
   "id": "db13bef2f4b72072",
   "outputs": [
    {
     "name": "stdout",
     "output_type": "stream",
     "text": [
      "R2: 0.9666272117780772  MSE: 983.4514927290348\n"
     ]
    }
   ],
   "execution_count": 9
  }
 ],
 "metadata": {
  "kernelspec": {
   "display_name": "Python 3",
   "language": "python",
   "name": "python3"
  },
  "language_info": {
   "codemirror_mode": {
    "name": "ipython",
    "version": 2
   },
   "file_extension": ".py",
   "mimetype": "text/x-python",
   "name": "python",
   "nbconvert_exporter": "python",
   "pygments_lexer": "ipython2",
   "version": "2.7.6"
  }
 },
 "nbformat": 4,
 "nbformat_minor": 5
}
