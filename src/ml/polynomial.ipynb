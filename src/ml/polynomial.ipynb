{
 "cells": [
  {
   "cell_type": "code",
   "id": "initial_id",
   "metadata": {
    "collapsed": true,
    "ExecuteTime": {
     "end_time": "2024-10-28T13:49:58.152736Z",
     "start_time": "2024-10-28T13:49:58.149171Z"
    }
   },
   "source": [
    "import pandas as pd\n",
    "import numpy as np\n",
    "import matplotlib.pyplot as plt\n",
    "from sklearn.linear_model import LinearRegression\n",
    "from sklearn.preprocessing import PolynomialFeatures\n",
    "from sklearn.model_selection import train_test_split\n",
    "from sklearn import metrics as mt\n"
   ],
   "outputs": [],
   "execution_count": 103
  },
  {
   "metadata": {
    "ExecuteTime": {
     "end_time": "2024-10-28T13:49:58.174177Z",
     "start_time": "2024-10-28T13:49:58.161741Z"
    }
   },
   "cell_type": "code",
   "source": [
    "# Load the data\n",
    "data = pd.read_csv('../../data/manufacturing.csv')"
   ],
   "id": "67eac35eea1dccec",
   "outputs": [],
   "execution_count": 104
  },
  {
   "metadata": {
    "ExecuteTime": {
     "end_time": "2024-10-28T13:49:58.197410Z",
     "start_time": "2024-10-28T13:49:58.189469Z"
    }
   },
   "cell_type": "code",
   "source": "data.head()",
   "id": "326c1eb02a06d2e3",
   "outputs": [
    {
     "data": {
      "text/plain": [
       "   Temperature (°C)  Pressure (kPa)  Temperature x Pressure  \\\n",
       "0        209.762701        8.050855             1688.769167   \n",
       "1        243.037873       15.812068             3842.931469   \n",
       "2        220.552675        7.843130             1729.823314   \n",
       "3        208.976637       23.786089             4970.736918   \n",
       "4        184.730960       15.797812             2918.345014   \n",
       "\n",
       "   Material Fusion Metric  Material Transformation Metric  Quality Rating  \n",
       "0            44522.217074                    9.229576e+06       99.999971  \n",
       "1            63020.764997                    1.435537e+07       99.985703  \n",
       "2            49125.950249                    1.072839e+07       99.999758  \n",
       "3            57128.881547                    9.125702e+06       99.999975  \n",
       "4            38068.201283                    6.303792e+06      100.000000  "
      ],
      "text/html": [
       "<div>\n",
       "<style scoped>\n",
       "    .dataframe tbody tr th:only-of-type {\n",
       "        vertical-align: middle;\n",
       "    }\n",
       "\n",
       "    .dataframe tbody tr th {\n",
       "        vertical-align: top;\n",
       "    }\n",
       "\n",
       "    .dataframe thead th {\n",
       "        text-align: right;\n",
       "    }\n",
       "</style>\n",
       "<table border=\"1\" class=\"dataframe\">\n",
       "  <thead>\n",
       "    <tr style=\"text-align: right;\">\n",
       "      <th></th>\n",
       "      <th>Temperature (°C)</th>\n",
       "      <th>Pressure (kPa)</th>\n",
       "      <th>Temperature x Pressure</th>\n",
       "      <th>Material Fusion Metric</th>\n",
       "      <th>Material Transformation Metric</th>\n",
       "      <th>Quality Rating</th>\n",
       "    </tr>\n",
       "  </thead>\n",
       "  <tbody>\n",
       "    <tr>\n",
       "      <th>0</th>\n",
       "      <td>209.762701</td>\n",
       "      <td>8.050855</td>\n",
       "      <td>1688.769167</td>\n",
       "      <td>44522.217074</td>\n",
       "      <td>9.229576e+06</td>\n",
       "      <td>99.999971</td>\n",
       "    </tr>\n",
       "    <tr>\n",
       "      <th>1</th>\n",
       "      <td>243.037873</td>\n",
       "      <td>15.812068</td>\n",
       "      <td>3842.931469</td>\n",
       "      <td>63020.764997</td>\n",
       "      <td>1.435537e+07</td>\n",
       "      <td>99.985703</td>\n",
       "    </tr>\n",
       "    <tr>\n",
       "      <th>2</th>\n",
       "      <td>220.552675</td>\n",
       "      <td>7.843130</td>\n",
       "      <td>1729.823314</td>\n",
       "      <td>49125.950249</td>\n",
       "      <td>1.072839e+07</td>\n",
       "      <td>99.999758</td>\n",
       "    </tr>\n",
       "    <tr>\n",
       "      <th>3</th>\n",
       "      <td>208.976637</td>\n",
       "      <td>23.786089</td>\n",
       "      <td>4970.736918</td>\n",
       "      <td>57128.881547</td>\n",
       "      <td>9.125702e+06</td>\n",
       "      <td>99.999975</td>\n",
       "    </tr>\n",
       "    <tr>\n",
       "      <th>4</th>\n",
       "      <td>184.730960</td>\n",
       "      <td>15.797812</td>\n",
       "      <td>2918.345014</td>\n",
       "      <td>38068.201283</td>\n",
       "      <td>6.303792e+06</td>\n",
       "      <td>100.000000</td>\n",
       "    </tr>\n",
       "  </tbody>\n",
       "</table>\n",
       "</div>"
      ]
     },
     "execution_count": 105,
     "metadata": {},
     "output_type": "execute_result"
    }
   ],
   "execution_count": 105
  },
  {
   "metadata": {
    "ExecuteTime": {
     "end_time": "2024-10-28T13:49:58.238441Z",
     "start_time": "2024-10-28T13:49:58.234175Z"
    }
   },
   "cell_type": "code",
   "source": "data.shape",
   "id": "39ccb7b69e403941",
   "outputs": [
    {
     "data": {
      "text/plain": [
       "(3957, 6)"
      ]
     },
     "execution_count": 106,
     "metadata": {},
     "output_type": "execute_result"
    }
   ],
   "execution_count": 106
  },
  {
   "metadata": {
    "ExecuteTime": {
     "end_time": "2024-10-28T13:49:58.284060Z",
     "start_time": "2024-10-28T13:49:58.277258Z"
    }
   },
   "cell_type": "code",
   "source": "data.info()",
   "id": "b2305b9776fd9944",
   "outputs": [
    {
     "name": "stdout",
     "output_type": "stream",
     "text": [
      "<class 'pandas.core.frame.DataFrame'>\n",
      "RangeIndex: 3957 entries, 0 to 3956\n",
      "Data columns (total 6 columns):\n",
      " #   Column                          Non-Null Count  Dtype  \n",
      "---  ------                          --------------  -----  \n",
      " 0   Temperature (°C)                3957 non-null   float64\n",
      " 1   Pressure (kPa)                  3957 non-null   float64\n",
      " 2   Temperature x Pressure          3957 non-null   float64\n",
      " 3   Material Fusion Metric          3957 non-null   float64\n",
      " 4   Material Transformation Metric  3957 non-null   float64\n",
      " 5   Quality Rating                  3957 non-null   float64\n",
      "dtypes: float64(6)\n",
      "memory usage: 185.6 KB\n"
     ]
    }
   ],
   "execution_count": 107
  },
  {
   "metadata": {
    "ExecuteTime": {
     "end_time": "2024-10-28T13:49:58.330823Z",
     "start_time": "2024-10-28T13:49:58.318232Z"
    }
   },
   "cell_type": "code",
   "source": "data.describe().T",
   "id": "9a3af7bc4821d327",
   "outputs": [
    {
     "data": {
      "text/plain": [
       "                                 count          mean           std  \\\n",
       "Temperature (°C)                3957.0  2.000347e+02  5.813572e+01   \n",
       "Pressure (kPa)                  3957.0  1.481556e+01  5.772040e+00   \n",
       "Temperature x Pressure          3957.0  2.955321e+03  1.458225e+03   \n",
       "Material Fusion Metric          3957.0  4.812718e+04  2.381221e+04   \n",
       "Material Transformation Metric  3957.0  1.003645e+07  7.599356e+06   \n",
       "Quality Rating                  3957.0  9.626018e+01  1.299226e+01   \n",
       "\n",
       "                                          min           25%           50%  \\\n",
       "Temperature (°C)                   100.014490  1.508713e+02  1.986034e+02   \n",
       "Pressure (kPa)                       5.003008  9.692984e+00  1.483256e+01   \n",
       "Temperature x Pressure             513.706875  1.798247e+03  2.678278e+03   \n",
       "Material Fusion Metric           10156.971955  2.762693e+04  4.461145e+04   \n",
       "Material Transformation Metric  999946.221844  3.433810e+06  7.833390e+06   \n",
       "Quality Rating                       1.000000  9.994113e+01  1.000000e+02   \n",
       "\n",
       "                                         75%           max  \n",
       "Temperature (°C)                2.513666e+02  2.999928e+02  \n",
       "Pressure (kPa)                  1.974968e+01  2.499913e+01  \n",
       "Temperature x Pressure          3.929058e+03  7.365019e+03  \n",
       "Material Fusion Metric          6.780544e+04  1.037562e+05  \n",
       "Material Transformation Metric  1.588251e+07  2.699783e+07  \n",
       "Quality Rating                  1.000000e+02  1.000000e+02  "
      ],
      "text/html": [
       "<div>\n",
       "<style scoped>\n",
       "    .dataframe tbody tr th:only-of-type {\n",
       "        vertical-align: middle;\n",
       "    }\n",
       "\n",
       "    .dataframe tbody tr th {\n",
       "        vertical-align: top;\n",
       "    }\n",
       "\n",
       "    .dataframe thead th {\n",
       "        text-align: right;\n",
       "    }\n",
       "</style>\n",
       "<table border=\"1\" class=\"dataframe\">\n",
       "  <thead>\n",
       "    <tr style=\"text-align: right;\">\n",
       "      <th></th>\n",
       "      <th>count</th>\n",
       "      <th>mean</th>\n",
       "      <th>std</th>\n",
       "      <th>min</th>\n",
       "      <th>25%</th>\n",
       "      <th>50%</th>\n",
       "      <th>75%</th>\n",
       "      <th>max</th>\n",
       "    </tr>\n",
       "  </thead>\n",
       "  <tbody>\n",
       "    <tr>\n",
       "      <th>Temperature (°C)</th>\n",
       "      <td>3957.0</td>\n",
       "      <td>2.000347e+02</td>\n",
       "      <td>5.813572e+01</td>\n",
       "      <td>100.014490</td>\n",
       "      <td>1.508713e+02</td>\n",
       "      <td>1.986034e+02</td>\n",
       "      <td>2.513666e+02</td>\n",
       "      <td>2.999928e+02</td>\n",
       "    </tr>\n",
       "    <tr>\n",
       "      <th>Pressure (kPa)</th>\n",
       "      <td>3957.0</td>\n",
       "      <td>1.481556e+01</td>\n",
       "      <td>5.772040e+00</td>\n",
       "      <td>5.003008</td>\n",
       "      <td>9.692984e+00</td>\n",
       "      <td>1.483256e+01</td>\n",
       "      <td>1.974968e+01</td>\n",
       "      <td>2.499913e+01</td>\n",
       "    </tr>\n",
       "    <tr>\n",
       "      <th>Temperature x Pressure</th>\n",
       "      <td>3957.0</td>\n",
       "      <td>2.955321e+03</td>\n",
       "      <td>1.458225e+03</td>\n",
       "      <td>513.706875</td>\n",
       "      <td>1.798247e+03</td>\n",
       "      <td>2.678278e+03</td>\n",
       "      <td>3.929058e+03</td>\n",
       "      <td>7.365019e+03</td>\n",
       "    </tr>\n",
       "    <tr>\n",
       "      <th>Material Fusion Metric</th>\n",
       "      <td>3957.0</td>\n",
       "      <td>4.812718e+04</td>\n",
       "      <td>2.381221e+04</td>\n",
       "      <td>10156.971955</td>\n",
       "      <td>2.762693e+04</td>\n",
       "      <td>4.461145e+04</td>\n",
       "      <td>6.780544e+04</td>\n",
       "      <td>1.037562e+05</td>\n",
       "    </tr>\n",
       "    <tr>\n",
       "      <th>Material Transformation Metric</th>\n",
       "      <td>3957.0</td>\n",
       "      <td>1.003645e+07</td>\n",
       "      <td>7.599356e+06</td>\n",
       "      <td>999946.221844</td>\n",
       "      <td>3.433810e+06</td>\n",
       "      <td>7.833390e+06</td>\n",
       "      <td>1.588251e+07</td>\n",
       "      <td>2.699783e+07</td>\n",
       "    </tr>\n",
       "    <tr>\n",
       "      <th>Quality Rating</th>\n",
       "      <td>3957.0</td>\n",
       "      <td>9.626018e+01</td>\n",
       "      <td>1.299226e+01</td>\n",
       "      <td>1.000000</td>\n",
       "      <td>9.994113e+01</td>\n",
       "      <td>1.000000e+02</td>\n",
       "      <td>1.000000e+02</td>\n",
       "      <td>1.000000e+02</td>\n",
       "    </tr>\n",
       "  </tbody>\n",
       "</table>\n",
       "</div>"
      ]
     },
     "execution_count": 108,
     "metadata": {},
     "output_type": "execute_result"
    }
   ],
   "execution_count": 108
  },
  {
   "metadata": {
    "ExecuteTime": {
     "end_time": "2024-10-28T13:49:58.383417Z",
     "start_time": "2024-10-28T13:49:58.378041Z"
    }
   },
   "cell_type": "code",
   "source": "data.isnull().sum()",
   "id": "4eeec8ee153f883e",
   "outputs": [
    {
     "data": {
      "text/plain": [
       "Temperature (°C)                  0\n",
       "Pressure (kPa)                    0\n",
       "Temperature x Pressure            0\n",
       "Material Fusion Metric            0\n",
       "Material Transformation Metric    0\n",
       "Quality Rating                    0\n",
       "dtype: int64"
      ]
     },
     "execution_count": 109,
     "metadata": {},
     "output_type": "execute_result"
    }
   ],
   "execution_count": 109
  },
  {
   "metadata": {
    "ExecuteTime": {
     "end_time": "2024-10-28T13:49:58.455006Z",
     "start_time": "2024-10-28T13:49:58.451010Z"
    }
   },
   "cell_type": "code",
   "source": [
    "# model\n",
    "\n",
    "X = data.drop('Quality Rating',axis=1)\n",
    "y = data['Quality Rating']\n"
   ],
   "id": "4d0528f5a61f2c5c",
   "outputs": [],
   "execution_count": 110
  },
  {
   "metadata": {
    "ExecuteTime": {
     "end_time": "2024-10-28T13:49:58.515095Z",
     "start_time": "2024-10-28T13:49:58.512551Z"
    }
   },
   "cell_type": "code",
   "source": "",
   "id": "6784b07f2bf7441",
   "outputs": [],
   "execution_count": null
  },
  {
   "metadata": {
    "ExecuteTime": {
     "end_time": "2024-10-28T13:49:58.564448Z",
     "start_time": "2024-10-28T13:49:58.559499Z"
    }
   },
   "cell_type": "code",
   "source": [
    "def score(model, X_train, X_test, y_train, y_test):\n",
    "    model.fit(X_train, y_train)\n",
    "    y_pred = model.predict(X_test)\n",
    "    r2_train = model.score(X_train, y_train)\n",
    "    r2_test = model.score(X_test, y_test)\n",
    "    rmse_train = np.sqrt(mt.mean_squared_error(y_train, model.predict(X_train)))\n",
    "    rmse_test = np.sqrt(mt.mean_squared_error(y_test, model.predict(X_test)))\n",
    "    return r2_train, r2_test, rmse_train, rmse_test, y_pred\n"
   ],
   "id": "6720faddf1d8490b",
   "outputs": [],
   "execution_count": 111
  },
  {
   "metadata": {
    "ExecuteTime": {
     "end_time": "2024-10-28T13:49:58.592670Z",
     "start_time": "2024-10-28T13:49:58.588364Z"
    }
   },
   "cell_type": "code",
   "source": [
    "X_train, X_test, y_train, y_test = train_test_split(X, y, test_size=0.2, random_state=42)\n",
    "\n"
   ],
   "id": "2b98c03b2bccd7fd",
   "outputs": [],
   "execution_count": 112
  },
  {
   "metadata": {
    "ExecuteTime": {
     "end_time": "2024-10-28T13:49:58.715650Z",
     "start_time": "2024-10-28T13:49:58.616667Z"
    }
   },
   "cell_type": "code",
   "source": [
    "# Linear Regression\n",
    "model = LinearRegression()\n",
    "r2_train, r2_test, rmse_train, rmse_test,y_pred_linear = score(model, X_train, X_test, y_train, y_test)\n",
    "print('Linear Regression')\n",
    "print('R2 Train:', r2_train)\n",
    "print('R2 Test:', r2_test)\n",
    "print('RMSE Train:', rmse_train)\n",
    "print('RMSE Test:', rmse_test)\n",
    "\n",
    "plt.scatter(y_test, y_pred_linear)\n",
    "\n",
    "plt.xlabel('True Values')\n",
    "plt.ylabel('Predictions')\n",
    "\n",
    "plt.show()\n"
   ],
   "id": "820c2cd4effa45a8",
   "outputs": [
    {
     "name": "stdout",
     "output_type": "stream",
     "text": [
      "Linear Regression\n",
      "R2 Train: 0.5021702258011791\n",
      "R2 Test: 0.5145614194018854\n",
      "RMSE Train: 8.920899803046925\n",
      "RMSE Test: 9.955027924399433\n"
     ]
    },
    {
     "data": {
      "text/plain": [
       "<Figure size 640x480 with 1 Axes>"
      ],
      "image/png": "[encoded data removed]"
     },
     "metadata": {},
     "output_type": "display_data"
    }
   ],
   "execution_count": 113
  },
  {
   "metadata": {
    "ExecuteTime": {
     "end_time": "2024-10-28T13:49:58.837561Z",
     "start_time": "2024-10-28T13:49:58.734075Z"
    }
   },
   "cell_type": "code",
   "source": [
    "# Polynomial Regression\n",
    "poly = PolynomialFeatures()\n",
    "X_poly = poly.fit_transform(X)\n",
    "X_train, X_test, y_train, y_test = train_test_split(X_poly, y, test_size=0.2, random_state=42)\n",
    "model = LinearRegression()\n",
    "r2_train, r2_test, rmse_train, rmse_test,y_pred_pol = score(model, X_train, X_test, y_train, y_test)\n",
    "print('Polynomial Regression')\n",
    "print('R2 Train:', r2_train)\n",
    "print('R2 Test:', r2_test)\n",
    "print('RMSE Train:', rmse_train)\n",
    "print('RMSE Test:', rmse_test)\n",
    "\n",
    "plt.scatter(y_test, y_pred_pol)\n",
    "plt.xlabel('True Values')\n",
    "plt.ylabel('Predictions')\n",
    "plt.show()\n",
    "\n"
   ],
   "id": "4af5c8d56591609a",
   "outputs": [
    {
     "name": "stdout",
     "output_type": "stream",
     "text": [
      "Polynomial Regression\n",
      "R2 Train: 0.91320507937798\n",
      "R2 Test: 0.923863806001297\n",
      "RMSE Train: 3.724906561351708\n",
      "RMSE Test: 3.9424928957292265\n"
     ]
    },
    {
     "data": {
      "text/plain": [
       "<Figure size 640x480 with 1 Axes>"
      ],
      "image/png": "[encoded data removed]"
     },
     "metadata": {},
     "output_type": "display_data"
    }
   ],
   "execution_count": 114
  },
  {
   "metadata": {
    "ExecuteTime": {
     "end_time": "2024-10-28T13:49:58.949607Z",
     "start_time": "2024-10-28T13:49:58.852543Z"
    }
   },
   "cell_type": "code",
   "source": [
    "# plot the predictions\n",
    "\n",
    "plt.scatter(y_test, y_pred_linear, label='Linear')\n",
    "plt.scatter(y_test, y_pred_pol, label='Polynomial')\n",
    "plt.xlabel('True Values')\n",
    "plt.ylabel('Predictions')\n",
    "plt.legend()\n",
    "plt.show()\n",
    "\n",
    "\n"
   ],
   "id": "8f559141988865c0",
   "outputs": [
    {
     "data": {
      "text/plain": [
       "<Figure size 640x480 with 1 Axes>"
      ],
      "image/png": "[encoded data removed]"
     },
     "metadata": {},
     "output_type": "display_data"
    }
   ],
   "execution_count": 115
  }
 ],
 "metadata": {
  "kernelspec": {
   "display_name": "Python 3",
   "language": "python",
   "name": "python3"
  },
  "language_info": {
   "codemirror_mode": {
    "name": "ipython",
    "version": 2
   },
   "file_extension": ".py",
   "mimetype": "text/x-python",
   "name": "python",
   "nbconvert_exporter": "python",
   "pygments_lexer": "ipython2",
   "version": "2.7.6"
  }
 },
 "nbformat": 4,
 "nbformat_minor": 5
}
