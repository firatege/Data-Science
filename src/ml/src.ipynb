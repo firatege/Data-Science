{
 "cells": [
  {
   "cell_type": "code",
   "id": "initial_id",
   "metadata": {
    "collapsed": true,
    "ExecuteTime": {
     "end_time": "2024-10-28T13:24:25.569995Z",
     "start_time": "2024-10-28T13:24:25.566921Z"
    }
   },
   "source": [
    "import numpy as np\n",
    "import pandas as pd\n",
    "import seaborn as sns\n",
    "from sklearn.model_selection import train_test_split, KFold\n",
    "from sklearn.linear_model import LinearRegression\n",
    "import sklearn.metrics as mt"
   ],
   "outputs": [],
   "execution_count": 12
  },
  {
   "metadata": {
    "ExecuteTime": {
     "end_time": "2024-10-28T13:21:47.699696Z",
     "start_time": "2024-10-28T13:21:47.631573Z"
    }
   },
   "cell_type": "code",
   "source": [
    "data = sns.load_dataset('diamonds')\n",
    "data.head()"
   ],
   "id": "5d0b631cdb0089c6",
   "outputs": [
    {
     "data": {
      "text/plain": [
       "   carat      cut color clarity  depth  table  price     x     y     z\n",
       "0   0.23    Ideal     E     SI2   61.5   55.0    326  3.95  3.98  2.43\n",
       "1   0.21  Premium     E     SI1   59.8   61.0    326  3.89  3.84  2.31\n",
       "2   0.23     Good     E     VS1   56.9   65.0    327  4.05  4.07  2.31\n",
       "3   0.29  Premium     I     VS2   62.4   58.0    334  4.20  4.23  2.63\n",
       "4   0.31     Good     J     SI2   63.3   58.0    335  4.34  4.35  2.75"
      ],
      "text/html": [
       "<div>\n",
       "<style scoped>\n",
       "    .dataframe tbody tr th:only-of-type {\n",
       "        vertical-align: middle;\n",
       "    }\n",
       "\n",
       "    .dataframe tbody tr th {\n",
       "        vertical-align: top;\n",
       "    }\n",
       "\n",
       "    .dataframe thead th {\n",
       "        text-align: right;\n",
       "    }\n",
       "</style>\n",
       "<table border=\"1\" class=\"dataframe\">\n",
       "  <thead>\n",
       "    <tr style=\"text-align: right;\">\n",
       "      <th></th>\n",
       "      <th>carat</th>\n",
       "      <th>cut</th>\n",
       "      <th>color</th>\n",
       "      <th>clarity</th>\n",
       "      <th>depth</th>\n",
       "      <th>table</th>\n",
       "      <th>price</th>\n",
       "      <th>x</th>\n",
       "      <th>y</th>\n",
       "      <th>z</th>\n",
       "    </tr>\n",
       "  </thead>\n",
       "  <tbody>\n",
       "    <tr>\n",
       "      <th>0</th>\n",
       "      <td>0.23</td>\n",
       "      <td>Ideal</td>\n",
       "      <td>E</td>\n",
       "      <td>SI2</td>\n",
       "      <td>61.5</td>\n",
       "      <td>55.0</td>\n",
       "      <td>326</td>\n",
       "      <td>3.95</td>\n",
       "      <td>3.98</td>\n",
       "      <td>2.43</td>\n",
       "    </tr>\n",
       "    <tr>\n",
       "      <th>1</th>\n",
       "      <td>0.21</td>\n",
       "      <td>Premium</td>\n",
       "      <td>E</td>\n",
       "      <td>SI1</td>\n",
       "      <td>59.8</td>\n",
       "      <td>61.0</td>\n",
       "      <td>326</td>\n",
       "      <td>3.89</td>\n",
       "      <td>3.84</td>\n",
       "      <td>2.31</td>\n",
       "    </tr>\n",
       "    <tr>\n",
       "      <th>2</th>\n",
       "      <td>0.23</td>\n",
       "      <td>Good</td>\n",
       "      <td>E</td>\n",
       "      <td>VS1</td>\n",
       "      <td>56.9</td>\n",
       "      <td>65.0</td>\n",
       "      <td>327</td>\n",
       "      <td>4.05</td>\n",
       "      <td>4.07</td>\n",
       "      <td>2.31</td>\n",
       "    </tr>\n",
       "    <tr>\n",
       "      <th>3</th>\n",
       "      <td>0.29</td>\n",
       "      <td>Premium</td>\n",
       "      <td>I</td>\n",
       "      <td>VS2</td>\n",
       "      <td>62.4</td>\n",
       "      <td>58.0</td>\n",
       "      <td>334</td>\n",
       "      <td>4.20</td>\n",
       "      <td>4.23</td>\n",
       "      <td>2.63</td>\n",
       "    </tr>\n",
       "    <tr>\n",
       "      <th>4</th>\n",
       "      <td>0.31</td>\n",
       "      <td>Good</td>\n",
       "      <td>J</td>\n",
       "      <td>SI2</td>\n",
       "      <td>63.3</td>\n",
       "      <td>58.0</td>\n",
       "      <td>335</td>\n",
       "      <td>4.34</td>\n",
       "      <td>4.35</td>\n",
       "      <td>2.75</td>\n",
       "    </tr>\n",
       "  </tbody>\n",
       "</table>\n",
       "</div>"
      ]
     },
     "execution_count": 2,
     "metadata": {},
     "output_type": "execute_result"
    }
   ],
   "execution_count": 2
  },
  {
   "metadata": {
    "ExecuteTime": {
     "end_time": "2024-10-28T13:22:11.015756Z",
     "start_time": "2024-10-28T13:22:11.004942Z"
    }
   },
   "cell_type": "code",
   "source": [
    "data = data.select_dtypes(include=['float64', 'int64'])\n",
    "data = data.dropna()\n",
    "data.head()\n"
   ],
   "id": "9afb25df5b96b21f",
   "outputs": [
    {
     "data": {
      "text/plain": [
       "   carat  depth  table  price     x     y     z\n",
       "0   0.23   61.5   55.0    326  3.95  3.98  2.43\n",
       "1   0.21   59.8   61.0    326  3.89  3.84  2.31\n",
       "2   0.23   56.9   65.0    327  4.05  4.07  2.31\n",
       "3   0.29   62.4   58.0    334  4.20  4.23  2.63\n",
       "4   0.31   63.3   58.0    335  4.34  4.35  2.75"
      ],
      "text/html": [
       "<div>\n",
       "<style scoped>\n",
       "    .dataframe tbody tr th:only-of-type {\n",
       "        vertical-align: middle;\n",
       "    }\n",
       "\n",
       "    .dataframe tbody tr th {\n",
       "        vertical-align: top;\n",
       "    }\n",
       "\n",
       "    .dataframe thead th {\n",
       "        text-align: right;\n",
       "    }\n",
       "</style>\n",
       "<table border=\"1\" class=\"dataframe\">\n",
       "  <thead>\n",
       "    <tr style=\"text-align: right;\">\n",
       "      <th></th>\n",
       "      <th>carat</th>\n",
       "      <th>depth</th>\n",
       "      <th>table</th>\n",
       "      <th>price</th>\n",
       "      <th>x</th>\n",
       "      <th>y</th>\n",
       "      <th>z</th>\n",
       "    </tr>\n",
       "  </thead>\n",
       "  <tbody>\n",
       "    <tr>\n",
       "      <th>0</th>\n",
       "      <td>0.23</td>\n",
       "      <td>61.5</td>\n",
       "      <td>55.0</td>\n",
       "      <td>326</td>\n",
       "      <td>3.95</td>\n",
       "      <td>3.98</td>\n",
       "      <td>2.43</td>\n",
       "    </tr>\n",
       "    <tr>\n",
       "      <th>1</th>\n",
       "      <td>0.21</td>\n",
       "      <td>59.8</td>\n",
       "      <td>61.0</td>\n",
       "      <td>326</td>\n",
       "      <td>3.89</td>\n",
       "      <td>3.84</td>\n",
       "      <td>2.31</td>\n",
       "    </tr>\n",
       "    <tr>\n",
       "      <th>2</th>\n",
       "      <td>0.23</td>\n",
       "      <td>56.9</td>\n",
       "      <td>65.0</td>\n",
       "      <td>327</td>\n",
       "      <td>4.05</td>\n",
       "      <td>4.07</td>\n",
       "      <td>2.31</td>\n",
       "    </tr>\n",
       "    <tr>\n",
       "      <th>3</th>\n",
       "      <td>0.29</td>\n",
       "      <td>62.4</td>\n",
       "      <td>58.0</td>\n",
       "      <td>334</td>\n",
       "      <td>4.20</td>\n",
       "      <td>4.23</td>\n",
       "      <td>2.63</td>\n",
       "    </tr>\n",
       "    <tr>\n",
       "      <th>4</th>\n",
       "      <td>0.31</td>\n",
       "      <td>63.3</td>\n",
       "      <td>58.0</td>\n",
       "      <td>335</td>\n",
       "      <td>4.34</td>\n",
       "      <td>4.35</td>\n",
       "      <td>2.75</td>\n",
       "    </tr>\n",
       "  </tbody>\n",
       "</table>\n",
       "</div>"
      ]
     },
     "execution_count": 4,
     "metadata": {},
     "output_type": "execute_result"
    }
   ],
   "execution_count": 4
  },
  {
   "metadata": {
    "ExecuteTime": {
     "end_time": "2024-10-28T13:22:19.027348Z",
     "start_time": "2024-10-28T13:22:19.022741Z"
    }
   },
   "cell_type": "code",
   "source": [
    "X = data.drop('price', axis=1)\n",
    "y = data['price']\n",
    "\n"
   ],
   "id": "43c79066ca2450b9",
   "outputs": [],
   "execution_count": 6
  },
  {
   "metadata": {
    "ExecuteTime": {
     "end_time": "2024-10-28T13:22:23.679003Z",
     "start_time": "2024-10-28T13:22:23.670027Z"
    }
   },
   "cell_type": "code",
   "source": [
    "X_train, X_test, y_train, y_test = train_test_split(X, y, test_size=0.2, random_state=42)\n",
    "\n"
   ],
   "id": "60900524e23e9305",
   "outputs": [],
   "execution_count": 7
  },
  {
   "metadata": {
    "ExecuteTime": {
     "end_time": "2024-10-28T13:24:28.897884Z",
     "start_time": "2024-10-28T13:24:28.893600Z"
    }
   },
   "cell_type": "code",
   "source": [
    "def score(model, X_train, X_test, y_train, y_test):\n",
    "    model.fit(X_train, y_train)\n",
    "    y_pred = model.predict(X_test)\n",
    "    r2_train = model.score(X_train, y_train)\n",
    "    r2_test = model.score(X_test, y_test)\n",
    "    rmse_train = np.sqrt(mt.mean_squared_error(y_train, model.predict(X_train)))\n",
    "    rmse_test = np.sqrt(mt.mean_squared_error(y_test, model.predict(X_test)))\n",
    "    return r2_train, r2_test, rmse_train, rmse_test\n"
   ],
   "id": "bf0247fa6e76f84e",
   "outputs": [],
   "execution_count": 13
  },
  {
   "metadata": {
    "ExecuteTime": {
     "end_time": "2024-10-28T13:24:34.678740Z",
     "start_time": "2024-10-28T13:24:34.659130Z"
    }
   },
   "cell_type": "code",
   "source": [
    "model = LinearRegression()\n",
    "r2_train, r2_test, rmse_train, rmse_test = score(model, X_train, X_test, y_train, y_test)\n",
    "print(f\"R2 Train: {r2_train}\")\n",
    "print(f\"R2 Test: {r2_test}\")\n",
    "print(f\"RMSE Train: {rmse_train}\")\n",
    "print(f\"RMSE Test: {rmse_test}\")\n"
   ],
   "id": "7a34e8ef7a5067a8",
   "outputs": [
    {
     "name": "stdout",
     "output_type": "stream",
     "text": [
      "R2 Train: 0.8592729084866024\n",
      "R2 Test: 0.8589542625888937\n",
      "RMSE Train: 1496.7760457375086\n",
      "RMSE Test: 1497.3906985438382\n"
     ]
    }
   ],
   "execution_count": 15
  },
  {
   "metadata": {
    "ExecuteTime": {
     "end_time": "2024-10-28T13:28:26.862303Z",
     "start_time": "2024-10-28T13:28:26.783259Z"
    }
   },
   "cell_type": "code",
   "source": [
    "# K Fold Cross Validation\n",
    "\n",
    "from sklearn. model_selection import KFold\n",
    "\n",
    "\n",
    "lr_cv = LinearRegression()\n",
    "k = 5\n",
    "it = 1\n",
    "r_2 = []\n",
    "rmse = []\n",
    "cv = KFold(n_splits=k, shuffle=True, random_state=42)\n",
    "\n",
    "for train_index, test_index in cv.split(X):\n",
    "    X_train, X_test = X.iloc[train_index], X.iloc[test_index]\n",
    "    y_train, y_test = y.iloc[train_index], y.iloc[test_index]\n",
    "    r2_train, r2_test, rmse_train, rmse_test = score(lr_cv, X_train, X_test, y_train, y_test)\n",
    "    r_2.append(r2_test)\n",
    "    rmse.append(rmse_test)\n",
    "    print(f\"Iteration {it}\")\n",
    "    print(f\"R2 Train: {r2_train}\")\n",
    "    print(f\"R2 Test: {r2_test}\")\n",
    "    print(f\"RMSE Train: {rmse_train}\")\n",
    "    print(f\"RMSE Test: {rmse_test}\")\n",
    "    \n",
    "    it += 1\n",
    "\n",
    "print(f\"Mean R2: {np.mean(r_2)}\")\n",
    "print(f\"Mean RMSE: {np.mean(rmse)}\")\n"
   ],
   "id": "b8821d4dcc826eb2",
   "outputs": [
    {
     "name": "stdout",
     "output_type": "stream",
     "text": [
      "Iteration 1\n",
      "R2 Train: 0.8592729084866024\n",
      "R2 Test: 0.8589542625888938\n",
      "RMSE Train: 1496.7760457375086\n",
      "RMSE Test: 1497.390698543838\n",
      "Iteration 2\n",
      "R2 Train: 0.8589737560254378\n",
      "R2 Test: 0.8601416526102384\n",
      "RMSE Train: 1499.8197350202572\n",
      "RMSE Test: 1485.3074790298463\n",
      "Iteration 3\n",
      "R2 Train: 0.8609526696282784\n",
      "R2 Test: 0.8520393263963629\n",
      "RMSE Train: 1488.0607361720429\n",
      "RMSE Test: 1532.6353236199832\n",
      "Iteration 4\n",
      "R2 Train: 0.8587754391431481\n",
      "R2 Test: 0.8597284095916333\n",
      "RMSE Train: 1494.9152623107125\n",
      "RMSE Test: 1510.8822157789753\n",
      "Iteration 5\n",
      "R2 Train: 0.8582612135831421\n",
      "R2 Test: 0.8630367094043155\n",
      "RMSE Train: 1503.888062239284\n",
      "RMSE Test: 1468.7192692972567\n",
      "Mean R2: 0.8587800721182889\n",
      "Mean RMSE: 1498.9869972539798\n"
     ]
    }
   ],
   "execution_count": 18
  }
 ],
 "metadata": {
  "kernelspec": {
   "display_name": "Python 3",
   "language": "python",
   "name": "python3"
  },
  "language_info": {
   "codemirror_mode": {
    "name": "ipython",
    "version": 2
   },
   "file_extension": ".py",
   "mimetype": "text/x-python",
   "name": "python",
   "nbconvert_exporter": "python",
   "pygments_lexer": "ipython2",
   "version": "2.7.6"
  }
 },
 "nbformat": 4,
 "nbformat_minor": 5
}
