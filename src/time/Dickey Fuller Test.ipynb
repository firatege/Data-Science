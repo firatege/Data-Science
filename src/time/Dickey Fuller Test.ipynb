{
 "cells": [
  {
   "metadata": {},
   "cell_type": "markdown",
   "source": "# Dickey Fuller Test",
   "id": "99a1317a18735ef9"
  },
  {
   "cell_type": "code",
   "id": "initial_id",
   "metadata": {
    "collapsed": true,
    "ExecuteTime": {
     "end_time": "2024-11-03T20:45:07.559487Z",
     "start_time": "2024-11-03T20:45:06.974725Z"
    }
   },
   "source": [
    "import pandas as pd\n",
    "import numpy as np\n",
    "import matplotlib.pyplot as plt\n",
    "from arch.unitroot import ADF\n",
    "import yfinance as yf\n"
   ],
   "outputs": [],
   "execution_count": 2
  },
  {
   "metadata": {
    "ExecuteTime": {
     "end_time": "2024-11-03T20:45:52.535195Z",
     "start_time": "2024-11-03T20:45:52.392563Z"
    }
   },
   "cell_type": "code",
   "source": [
    "# Download data\n",
    "data = yf.download('AAPL', period='2y',interval='1mo')"
   ],
   "id": "33f6da399d56cfed",
   "outputs": [
    {
     "name": "stderr",
     "output_type": "stream",
     "text": [
      "[*********************100%***********************]  1 of 1 completed\n"
     ]
    }
   ],
   "execution_count": 5
  },
  {
   "metadata": {
    "ExecuteTime": {
     "end_time": "2024-11-03T20:46:11.617527Z",
     "start_time": "2024-11-03T20:46:11.473162Z"
    }
   },
   "cell_type": "code",
   "source": "data['Adj Close'].plot()",
   "id": "5fb06e39f0943c92",
   "outputs": [
    {
     "data": {
      "text/plain": [
       "<Axes: xlabel='Date'>"
      ]
     },
     "execution_count": 8,
     "metadata": {},
     "output_type": "execute_result"
    },
    {
     "data": {
      "text/plain": [
       "<Figure size 640x480 with 1 Axes>"
      ],
      "image/png": "[encoded data removed]"
     },
     "metadata": {},
     "output_type": "display_data"
    }
   ],
   "execution_count": 8
  },
  {
   "metadata": {
    "ExecuteTime": {
     "end_time": "2024-11-03T20:47:45.634693Z",
     "start_time": "2024-11-03T20:47:45.615623Z"
    }
   },
   "cell_type": "code",
   "source": [
    "# ADF test without trend and constant term\n",
    "adf = ADF(data['Adj Close'],trend='n',method='aic')\n",
    "print(adf.summary().as_text())\n"
   ],
   "id": "21a073ec15e502cc",
   "outputs": [
    {
     "name": "stdout",
     "output_type": "stream",
     "text": [
      "   Augmented Dickey-Fuller Results   \n",
      "=====================================\n",
      "Test Statistic                  0.883\n",
      "P-value                         0.899\n",
      "Lags                                2\n",
      "-------------------------------------\n",
      "\n",
      "Trend: No Trend\n",
      "Critical Values: -2.67 (1%), -1.96 (5%), -1.61 (10%)\n",
      "Null Hypothesis: The process contains a unit root.\n",
      "Alternative Hypothesis: The process is weakly stationary.\n"
     ]
    }
   ],
   "execution_count": 9
  },
  {
   "metadata": {
    "ExecuteTime": {
     "end_time": "2024-11-03T20:48:00.517426Z",
     "start_time": "2024-11-03T20:48:00.509349Z"
    }
   },
   "cell_type": "code",
   "source": [
    "# ADF test with constant term\n",
    "adf = ADF(data['Adj Close'],trend='c',method='aic')\n",
    "print(adf.summary().as_text())\n"
   ],
   "id": "a5f44b164728a553",
   "outputs": [
    {
     "name": "stdout",
     "output_type": "stream",
     "text": [
      "   Augmented Dickey-Fuller Results   \n",
      "=====================================\n",
      "Test Statistic                 -1.261\n",
      "P-value                         0.647\n",
      "Lags                                2\n",
      "-------------------------------------\n",
      "\n",
      "Trend: Constant\n",
      "Critical Values: -3.77 (1%), -3.01 (5%), -2.64 (10%)\n",
      "Null Hypothesis: The process contains a unit root.\n",
      "Alternative Hypothesis: The process is weakly stationary.\n"
     ]
    }
   ],
   "execution_count": 10
  },
  {
   "metadata": {
    "ExecuteTime": {
     "end_time": "2024-11-03T20:48:04.955461Z",
     "start_time": "2024-11-03T20:48:04.947192Z"
    }
   },
   "cell_type": "code",
   "source": [
    "# ADF test with constant and trend term\n",
    "adf = ADF(data['Adj Close'],trend='ct',method='aic')\n",
    "print(adf.summary().as_text())\n"
   ],
   "id": "f857754d7688e315",
   "outputs": [
    {
     "name": "stdout",
     "output_type": "stream",
     "text": [
      "   Augmented Dickey-Fuller Results   \n",
      "=====================================\n",
      "Test Statistic                 -1.968\n",
      "P-value                         0.619\n",
      "Lags                                9\n",
      "-------------------------------------\n",
      "\n",
      "Trend: Constant and Linear Time Trend\n",
      "Critical Values: -4.73 (1%), -3.76 (5%), -3.32 (10%)\n",
      "Null Hypothesis: The process contains a unit root.\n",
      "Alternative Hypothesis: The process is weakly stationary.\n"
     ]
    }
   ],
   "execution_count": 11
  },
  {
   "metadata": {},
   "cell_type": "code",
   "outputs": [],
   "execution_count": null,
   "source": "",
   "id": "9193c5f5bcb755a1"
  }
 ],
 "metadata": {
  "kernelspec": {
   "display_name": "Python 3",
   "language": "python",
   "name": "python3"
  },
  "language_info": {
   "codemirror_mode": {
    "name": "ipython",
    "version": 2
   },
   "file_extension": ".py",
   "mimetype": "text/x-python",
   "name": "python",
   "nbconvert_exporter": "python",
   "pygments_lexer": "ipython2",
   "version": "2.7.6"
  }
 },
 "nbformat": 4,
 "nbformat_minor": 5
}
