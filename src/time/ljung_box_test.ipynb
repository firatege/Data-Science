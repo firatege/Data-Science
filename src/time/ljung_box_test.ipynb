{
 "cells": [
  {
   "cell_type": "code",
   "id": "initial_id",
   "metadata": {
    "collapsed": true,
    "ExecuteTime": {
     "end_time": "2024-11-01T14:03:07.991852Z",
     "start_time": "2024-11-01T14:03:06.901230Z"
    }
   },
   "source": [
    "# Ljung-Box test\n",
    "\n",
    "import numpy as np\n",
    "import pandas as pd\n",
    "import statsmodels.api as sm\n",
    "\n"
   ],
   "outputs": [],
   "execution_count": 1
  },
  {
   "metadata": {
    "ExecuteTime": {
     "end_time": "2024-11-01T14:04:06.130995Z",
     "start_time": "2024-11-01T14:04:06.126798Z"
    }
   },
   "cell_type": "code",
   "source": [
    "# create rando mtime series data\n",
    "\n",
    "data = [132,146,129,144,141,139,131,133,148,136,132,146,129,144,141,139,131,133,148,136]"
   ],
   "id": "38674e7162a0fd77",
   "outputs": [],
   "execution_count": 5
  },
  {
   "metadata": {
    "ExecuteTime": {
     "end_time": "2024-11-01T14:09:19.858077Z",
     "start_time": "2024-11-01T14:09:19.851890Z"
    }
   },
   "cell_type": "code",
   "source": [
    "# oto correlation\n",
    "acf = sm.tsa.acf(data, nlags=5,qstat=True)\n",
    "pacf = sm.tsa.pacf(data, nlags=5, method='ldb')\n",
    "acf, pacf"
   ],
   "id": "aa4871d6c76327dc",
   "outputs": [
    {
     "data": {
      "text/plain": [
       "((array([ 1.        , -0.46605335, -0.10770561,  0.02490738,  0.00279081,\n",
       "          0.13688565]),\n",
       "  array([5.03002724, 5.31359496, 5.3296518 , 5.32986599, 5.87950464]),\n",
       "  array([0.02491151, 0.07017259, 0.14918986, 0.25509406, 0.3181208 ])),\n",
       " array([ 1.        , -0.46605335, -0.41506605, -0.36973944, -0.39374976,\n",
       "        -0.20179169]))"
      ]
     },
     "execution_count": 22,
     "metadata": {},
     "output_type": "execute_result"
    }
   ],
   "execution_count": 22
  },
  {
   "metadata": {
    "ExecuteTime": {
     "end_time": "2024-11-01T14:09:31.280221Z",
     "start_time": "2024-11-01T14:09:31.276204Z"
    }
   },
   "cell_type": "code",
   "source": [
    "oto_corr = {\n",
    "    'lag': np.arange(1, 6),\n",
    "    'acf': np.round(acf[0][1:], 2),\n",
    "    'pacf': np.round(pacf[1:], 2),\n",
    "    'q': np.round(acf[1], 2),\n",
    "    'p-value': np.round(acf[2], 2)\n",
    "}\n",
    "df = pd.DataFrame(oto_corr)"
   ],
   "id": "8ceab8e5fee8a614",
   "outputs": [],
   "execution_count": 23
  },
  {
   "metadata": {
    "ExecuteTime": {
     "end_time": "2024-11-01T14:10:22.700498Z",
     "start_time": "2024-11-01T14:10:22.689729Z"
    }
   },
   "cell_type": "code",
   "source": "df",
   "id": "650178e12530cc3d",
   "outputs": [
    {
     "data": {
      "text/plain": [
       "   lag   acf  pacf     q  p-value\n",
       "0    1 -0.47 -0.47  5.03     0.02\n",
       "1    2 -0.11 -0.42  5.31     0.07\n",
       "2    3  0.02 -0.37  5.33     0.15\n",
       "3    4  0.00 -0.39  5.33     0.26\n",
       "4    5  0.14 -0.20  5.88     0.32"
      ],
      "text/html": [
       "<div>\n",
       "<style scoped>\n",
       "    .dataframe tbody tr th:only-of-type {\n",
       "        vertical-align: middle;\n",
       "    }\n",
       "\n",
       "    .dataframe tbody tr th {\n",
       "        vertical-align: top;\n",
       "    }\n",
       "\n",
       "    .dataframe thead th {\n",
       "        text-align: right;\n",
       "    }\n",
       "</style>\n",
       "<table border=\"1\" class=\"dataframe\">\n",
       "  <thead>\n",
       "    <tr style=\"text-align: right;\">\n",
       "      <th></th>\n",
       "      <th>lag</th>\n",
       "      <th>acf</th>\n",
       "      <th>pacf</th>\n",
       "      <th>q</th>\n",
       "      <th>p-value</th>\n",
       "    </tr>\n",
       "  </thead>\n",
       "  <tbody>\n",
       "    <tr>\n",
       "      <th>0</th>\n",
       "      <td>1</td>\n",
       "      <td>-0.47</td>\n",
       "      <td>-0.47</td>\n",
       "      <td>5.03</td>\n",
       "      <td>0.02</td>\n",
       "    </tr>\n",
       "    <tr>\n",
       "      <th>1</th>\n",
       "      <td>2</td>\n",
       "      <td>-0.11</td>\n",
       "      <td>-0.42</td>\n",
       "      <td>5.31</td>\n",
       "      <td>0.07</td>\n",
       "    </tr>\n",
       "    <tr>\n",
       "      <th>2</th>\n",
       "      <td>3</td>\n",
       "      <td>0.02</td>\n",
       "      <td>-0.37</td>\n",
       "      <td>5.33</td>\n",
       "      <td>0.15</td>\n",
       "    </tr>\n",
       "    <tr>\n",
       "      <th>3</th>\n",
       "      <td>4</td>\n",
       "      <td>0.00</td>\n",
       "      <td>-0.39</td>\n",
       "      <td>5.33</td>\n",
       "      <td>0.26</td>\n",
       "    </tr>\n",
       "    <tr>\n",
       "      <th>4</th>\n",
       "      <td>5</td>\n",
       "      <td>0.14</td>\n",
       "      <td>-0.20</td>\n",
       "      <td>5.88</td>\n",
       "      <td>0.32</td>\n",
       "    </tr>\n",
       "  </tbody>\n",
       "</table>\n",
       "</div>"
      ]
     },
     "execution_count": 26,
     "metadata": {},
     "output_type": "execute_result"
    }
   ],
   "execution_count": 26
  }
 ],
 "metadata": {
  "kernelspec": {
   "display_name": "Python 3",
   "language": "python",
   "name": "python3"
  },
  "language_info": {
   "codemirror_mode": {
    "name": "ipython",
    "version": 2
   },
   "file_extension": ".py",
   "mimetype": "text/x-python",
   "name": "python",
   "nbconvert_exporter": "python",
   "pygments_lexer": "ipython2",
   "version": "2.7.6"
  }
 },
 "nbformat": 4,
 "nbformat_minor": 5
}
