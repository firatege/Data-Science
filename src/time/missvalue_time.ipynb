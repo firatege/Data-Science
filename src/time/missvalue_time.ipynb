{
 "cells": [
  {
   "cell_type": "code",
   "id": "initial_id",
   "metadata": {
    "collapsed": true,
    "ExecuteTime": {
     "end_time": "2024-10-28T11:45:17.752773Z",
     "start_time": "2024-10-28T11:45:17.749282Z"
    }
   },
   "source": [
    "from logging import warning\n",
    "\n",
    "import pandas as pd\n",
    "import datetime as dt\n",
    "import numpy as np\n",
    "import holidays\n",
    "import matplotlib.pyplot as plt\n",
    "from warnings import filterwarnings\n",
    "\n",
    "from matplotlib.pyplot import axline\n",
    "from xgboost.dask import predict\n",
    "\n",
    "filterwarnings('ignore')"
   ],
   "outputs": [],
   "execution_count": 106
  },
  {
   "metadata": {
    "ExecuteTime": {
     "end_time": "2024-10-28T11:45:17.780623Z",
     "start_time": "2024-10-28T11:45:17.761021Z"
    }
   },
   "cell_type": "code",
   "source": [
    "# İmport Dataset\n",
    "\n",
    "data = pd.read_excel('../data/EVDS.xlsx')"
   ],
   "id": "372cee224d3fea13",
   "outputs": [],
   "execution_count": 107
  },
  {
   "metadata": {
    "ExecuteTime": {
     "end_time": "2024-10-28T11:45:17.805605Z",
     "start_time": "2024-10-28T11:45:17.793767Z"
    }
   },
   "cell_type": "code",
   "source": [
    "dates = pd.to_datetime(data['Tarih'], format='%d-%m-%Y', errors='coerce')\n",
    "data['Tarih'] = dates\n",
    "\n",
    "\n",
    "days = []\n",
    "for date in dates:\n",
    "    hour_quarter = dt.timezone(dt.timedelta(hours=3))\n",
    "    date = date.tz_localize('UTC').astimezone(hour_quarter)\n",
    "    day = date.strftime('%A')\n",
    "    days.append(day)\n",
    "\n",
    "data['Day'] = days\n",
    "\n",
    "\n",
    "\n",
    "\n"
   ],
   "id": "47570cca7c2d196",
   "outputs": [],
   "execution_count": 108
  },
  {
   "metadata": {
    "ExecuteTime": {
     "end_time": "2024-10-28T11:45:17.822201Z",
     "start_time": "2024-10-28T11:45:17.818510Z"
    }
   },
   "cell_type": "code",
   "source": "miss_values =data[data['TP DK USD S YTL'].isnull()]",
   "id": "c02fa8513e6d80d4",
   "outputs": [],
   "execution_count": 109
  },
  {
   "metadata": {
    "ExecuteTime": {
     "end_time": "2024-10-28T11:45:17.836667Z",
     "start_time": "2024-10-28T11:45:17.831876Z"
    }
   },
   "cell_type": "code",
   "source": "miss_values['Day'].value_counts()\n",
   "id": "3887933e47cb6d94",
   "outputs": [
    {
     "data": {
      "text/plain": [
       "Day\n",
       "Saturday     22\n",
       "Sunday       22\n",
       "Monday        2\n",
       "Tuesday       1\n",
       "Wednesday     1\n",
       "Friday        1\n",
       "Name: count, dtype: int64"
      ]
     },
     "execution_count": 110,
     "metadata": {},
     "output_type": "execute_result"
    }
   ],
   "execution_count": 110
  },
  {
   "metadata": {
    "ExecuteTime": {
     "end_time": "2024-10-28T11:45:17.876800Z",
     "start_time": "2024-10-28T11:45:17.872188Z"
    }
   },
   "cell_type": "code",
   "source": "data.shape",
   "id": "c10cd469a4e3ada4",
   "outputs": [
    {
     "data": {
      "text/plain": [
       "(151, 3)"
      ]
     },
     "execution_count": 111,
     "metadata": {},
     "output_type": "execute_result"
    }
   ],
   "execution_count": 111
  },
  {
   "metadata": {
    "ExecuteTime": {
     "end_time": "2024-10-28T11:45:17.930214Z",
     "start_time": "2024-10-28T11:45:17.924805Z"
    }
   },
   "cell_type": "code",
   "source": [
    "tatiller = holidays.Turkey() \n",
    "\n",
    "tatil = []\n",
    "\n",
    "for date in dates:\n",
    "    if date in tatiller:\n",
    "        tatil.append(1)\n",
    "    else:\n",
    "        tatil.append(0)\n",
    "\n",
    "data['Tatil'] = tatil\n",
    "\n",
    "\n"
   ],
   "id": "54839f2cdad21da",
   "outputs": [],
   "execution_count": 112
  },
  {
   "metadata": {
    "ExecuteTime": {
     "end_time": "2024-10-28T11:45:17.948129Z",
     "start_time": "2024-10-28T11:45:17.941232Z"
    }
   },
   "cell_type": "code",
   "source": [
    "holidays = ['Saturday', 'Sunday']\n",
    "\n",
    "data.loc[(~data['Day'].isin(holidays)) & (data['Tatil'] == 1)] "
   ],
   "id": "49ad2715d04a26e2",
   "outputs": [
    {
     "data": {
      "text/plain": [
       "        Tarih  TP DK USD S YTL        Day  Tatil\n",
       "17 2024-06-17              NaN     Monday      1\n",
       "18 2024-06-18              NaN    Tuesday      1\n",
       "19 2024-06-19              NaN  Wednesday      1\n",
       "45 2024-07-15              NaN     Monday      1\n",
       "91 2024-08-30              NaN     Friday      1"
      ],
      "text/html": [
       "<div>\n",
       "<style scoped>\n",
       "    .dataframe tbody tr th:only-of-type {\n",
       "        vertical-align: middle;\n",
       "    }\n",
       "\n",
       "    .dataframe tbody tr th {\n",
       "        vertical-align: top;\n",
       "    }\n",
       "\n",
       "    .dataframe thead th {\n",
       "        text-align: right;\n",
       "    }\n",
       "</style>\n",
       "<table border=\"1\" class=\"dataframe\">\n",
       "  <thead>\n",
       "    <tr style=\"text-align: right;\">\n",
       "      <th></th>\n",
       "      <th>Tarih</th>\n",
       "      <th>TP DK USD S YTL</th>\n",
       "      <th>Day</th>\n",
       "      <th>Tatil</th>\n",
       "    </tr>\n",
       "  </thead>\n",
       "  <tbody>\n",
       "    <tr>\n",
       "      <th>17</th>\n",
       "      <td>2024-06-17</td>\n",
       "      <td>NaN</td>\n",
       "      <td>Monday</td>\n",
       "      <td>1</td>\n",
       "    </tr>\n",
       "    <tr>\n",
       "      <th>18</th>\n",
       "      <td>2024-06-18</td>\n",
       "      <td>NaN</td>\n",
       "      <td>Tuesday</td>\n",
       "      <td>1</td>\n",
       "    </tr>\n",
       "    <tr>\n",
       "      <th>19</th>\n",
       "      <td>2024-06-19</td>\n",
       "      <td>NaN</td>\n",
       "      <td>Wednesday</td>\n",
       "      <td>1</td>\n",
       "    </tr>\n",
       "    <tr>\n",
       "      <th>45</th>\n",
       "      <td>2024-07-15</td>\n",
       "      <td>NaN</td>\n",
       "      <td>Monday</td>\n",
       "      <td>1</td>\n",
       "    </tr>\n",
       "    <tr>\n",
       "      <th>91</th>\n",
       "      <td>2024-08-30</td>\n",
       "      <td>NaN</td>\n",
       "      <td>Friday</td>\n",
       "      <td>1</td>\n",
       "    </tr>\n",
       "  </tbody>\n",
       "</table>\n",
       "</div>"
      ]
     },
     "execution_count": 113,
     "metadata": {},
     "output_type": "execute_result"
    }
   ],
   "execution_count": 113
  },
  {
   "metadata": {
    "ExecuteTime": {
     "end_time": "2024-10-28T11:45:18.170402Z",
     "start_time": "2024-10-28T11:45:17.996114Z"
    }
   },
   "cell_type": "code",
   "source": "plt.plot(data['Tarih'], data['TP DK USD S YTL'])",
   "id": "346c11a74044e098",
   "outputs": [
    {
     "data": {
      "text/plain": [
       "[<matplotlib.lines.Line2D at 0x20e6d31cf90>]"
      ]
     },
     "execution_count": 114,
     "metadata": {},
     "output_type": "execute_result"
    },
    {
     "data": {
      "text/plain": [
       "<Figure size 640x480 with 1 Axes>"
      ],
      "image/png": "[encoded data removed]"
     },
     "metadata": {},
     "output_type": "display_data"
    }
   ],
   "execution_count": 114
  },
  {
   "metadata": {
    "ExecuteTime": {
     "end_time": "2024-10-28T11:52:25.117687Z",
     "start_time": "2024-10-28T11:52:25.113375Z"
    }
   },
   "cell_type": "code",
   "source": [
    "# impuataion\n",
    "\n",
    "predict = data['TP DK USD S YTL'].interpolate(method='linear', limit_direction='both')\n",
    "\n",
    "data['predict'] = predict\n",
    "\n",
    "\n"
   ],
   "id": "28d3e54c7589a50",
   "outputs": [],
   "execution_count": 145
  },
  {
   "metadata": {
    "ExecuteTime": {
     "end_time": "2024-10-28T11:50:58.234643Z",
     "start_time": "2024-10-28T11:50:58.226958Z"
    }
   },
   "cell_type": "code",
   "source": "\n",
   "id": "f2214189bde6539e",
   "outputs": [
    {
     "data": {
      "text/plain": [
       "1      32.268600\n",
       "2      32.230200\n",
       "8      32.240367\n",
       "9      32.245333\n",
       "15     32.327233\n",
       "16     32.365067\n",
       "17     32.402900\n",
       "18     32.440733\n",
       "19     32.478567\n",
       "22     32.699867\n",
       "23     32.769933\n",
       "29     32.895700\n",
       "30     32.890500\n",
       "36     32.602767\n",
       "37     32.645833\n",
       "43     32.921425\n",
       "44     32.936350\n",
       "45     32.951275\n",
       "50     33.086900\n",
       "51     33.075300\n",
       "57     33.034467\n",
       "58     33.026233\n",
       "64     33.137167\n",
       "65     33.136533\n",
       "71     33.511500\n",
       "72     33.515700\n",
       "78     33.647100\n",
       "79     33.659200\n",
       "85     33.923500\n",
       "86     33.935400\n",
       "91     34.013950\n",
       "92     34.004100\n",
       "93     33.994250\n",
       "99     33.965033\n",
       "100    33.959867\n",
       "106    33.931867\n",
       "107    33.904333\n",
       "113    34.030000\n",
       "114    34.022100\n",
       "120    34.156867\n",
       "121    34.154133\n",
       "127    34.183167\n",
       "128    34.192233\n",
       "134    34.217167\n",
       "135    34.220633\n",
       "141    34.197967\n",
       "142    34.219033\n",
       "148    34.251400\n",
       "149    34.251000\n",
       "Name: TP DK USD S YTL, dtype: float64"
      ]
     },
     "execution_count": 141,
     "metadata": {},
     "output_type": "execute_result"
    }
   ],
   "execution_count": 141
  },
  {
   "metadata": {
    "ExecuteTime": {
     "end_time": "2024-10-28T11:56:49.313792Z",
     "start_time": "2024-10-28T11:56:49.147132Z"
    }
   },
   "cell_type": "code",
   "source": [
    "plt.plot(data['Tarih'], data['predict'], label='fill')\n",
    "plt.plot(data['Tarih'], data['TP DK USD S YTL'], label='Orjinal')\n",
    "plt.legend()\n"
   ],
   "id": "8c3ad0bf5024be7a",
   "outputs": [
    {
     "data": {
      "text/plain": [
       "<matplotlib.legend.Legend at 0x20e760a2e50>"
      ]
     },
     "execution_count": 169,
     "metadata": {},
     "output_type": "execute_result"
    },
    {
     "data": {
      "text/plain": [
       "<Figure size 640x480 with 1 Axes>"
      ],
      "image/png": "[encoded data removed]"
     },
     "metadata": {},
     "output_type": "display_data"
    }
   ],
   "execution_count": 169
  },
  {
   "metadata": {},
   "cell_type": "code",
   "outputs": [],
   "execution_count": null,
   "source": "",
   "id": "c47eb4efb6a8404c"
  }
 ],
 "metadata": {
  "kernelspec": {
   "display_name": "Python 3",
   "language": "python",
   "name": "python3"
  },
  "language_info": {
   "codemirror_mode": {
    "name": "ipython",
    "version": 2
   },
   "file_extension": ".py",
   "mimetype": "text/x-python",
   "name": "python",
   "nbconvert_exporter": "python",
   "pygments_lexer": "ipython2",
   "version": "2.7.6"
  }
 },
 "nbformat": 4,
 "nbformat_minor": 5
}
